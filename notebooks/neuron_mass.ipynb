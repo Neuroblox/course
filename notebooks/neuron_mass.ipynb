{
 "cells": [
  {
   "cell_type": "markdown",
   "source": [
    "# Neurons, Neural Masses and Sources"
   ],
   "metadata": {}
  },
  {
   "cell_type": "markdown",
   "source": [
    "## Introduction\n",
    "The main distinction between the neuron, neural mass and source Blox we will encounter on this session is the mechanism by which they communicate with other Bloxs.\n",
    "All neural mass Bloxs, some sources, and neurons of the Hodgkin-Huxley (HH) family have continuous output variables which are included as terms in the postsynaptic Blox's differential equations.\n",
    "The alternative is an event-based connection. Neurons of the Izhikevich and the Integrate-and-fire families of models operate this way as we have previosuly seen. Sources that simulate spike trains may also operate the same way via callbacks."
   ],
   "metadata": {}
  },
  {
   "cell_type": "markdown",
   "source": [
    "Learning goals :\n",
    "- visualize results from neuron and neural mass Blox simulations\n",
    "- introduce external sources as Blox\n",
    "- drive single neuron and neural mass activity using external sources"
   ],
   "metadata": {}
  },
  {
   "cell_type": "markdown",
   "source": [
    "## Neurons and neural masses\n",
    "As a first example we will consider a neural mass `WilsonCowan` Blox of Excitation-Inhibition (E-I) balance. This is a two-dimensional reduction over a population of excitatory and inhibitory neurons with continuous dynamics."
   ],
   "metadata": {}
  },
  {
   "outputs": [],
   "cell_type": "code",
   "source": [
    "using Neuroblox\n",
    "using OrdinaryDiffEq\n",
    "using CairoMakie"
   ],
   "metadata": {},
   "execution_count": null
  },
  {
   "cell_type": "markdown",
   "source": [
    "Set the random seed for reproducible results"
   ],
   "metadata": {}
  },
  {
   "outputs": [],
   "cell_type": "code",
   "source": [
    "using Random\n",
    "Random.seed!(1)\n",
    "\n",
    "@named nm = WilsonCowan()"
   ],
   "metadata": {},
   "execution_count": null
  },
  {
   "cell_type": "markdown",
   "source": [
    "Retrieve the simplified ODESystem of the Blox"
   ],
   "metadata": {}
  },
  {
   "outputs": [],
   "cell_type": "code",
   "source": [
    "sys = system(nm)\n",
    "tspan = (0, 100) # ms\n",
    "prob = ODEProblem(sys, [], tspan)\n",
    "sol = solve(prob, Tsit5())\n",
    "\n",
    "fig, ax = plot(sol);\n",
    "axislegend(ax) ## add legend to the plot\n",
    "fig"
   ],
   "metadata": {},
   "execution_count": null
  },
  {
   "cell_type": "markdown",
   "source": [
    "Using the generic `plot` function we visualize all states of our model. We can retrieve specific variables by using"
   ],
   "metadata": {}
  },
  {
   "outputs": [],
   "cell_type": "code",
   "source": [
    "E = state_timeseries(nm, sol, \"E\") ## retrieves state `E` of Blox `nm`\n",
    "fig = lines(E); ## simple line plot\n",
    "fig"
   ],
   "metadata": {},
   "execution_count": null
  },
  {
   "cell_type": "markdown",
   "source": [
    "Moving on to neurons, we will use a Quadratic Integrate-and-fire (QIF) neuron model with an added callback that increases the input current after 60 ms."
   ],
   "metadata": {}
  },
  {
   "outputs": [],
   "cell_type": "code",
   "source": [
    "@named qif = QIFNeuron(; I_in=4)"
   ],
   "metadata": {},
   "execution_count": null
  },
  {
   "cell_type": "markdown",
   "source": [
    "We can pass additional events to be included in the final system."
   ],
   "metadata": {}
  },
  {
   "outputs": [],
   "cell_type": "code",
   "source": [
    "sys = system(qif; discrete_events = [60] => [qif.I_in ~ 10])\n",
    "tspan = (0, 100) # ms\n",
    "prob = ODEProblem(sys, [], tspan)\n",
    "sol = solve(prob, Tsit5());"
   ],
   "metadata": {},
   "execution_count": null
  },
  {
   "cell_type": "markdown",
   "source": [
    "Besides the generic `plot` function, Neuroblox includes some plotting recipes specifically for neuron models.\n",
    "A raster plot with chosen spike threshold"
   ],
   "metadata": {}
  },
  {
   "outputs": [],
   "cell_type": "code",
   "source": [
    "fig = rasterplot(qif, sol; threshold=-40);\n",
    "fig"
   ],
   "metadata": {},
   "execution_count": null
  },
  {
   "cell_type": "markdown",
   "source": [
    "and a firing rate plot, again by setting the spike threshold and the window size for averaging"
   ],
   "metadata": {}
  },
  {
   "outputs": [],
   "cell_type": "code",
   "source": [
    "fig = frplot(qif, sol; threshold=-40, win_size=20);\n",
    "fig"
   ],
   "metadata": {},
   "execution_count": null
  },
  {
   "cell_type": "markdown",
   "source": [
    "We can easily extract the voltage timeseries of neurons by"
   ],
   "metadata": {}
  },
  {
   "outputs": [],
   "cell_type": "code",
   "source": [
    "V = voltage_timeseries(qif, sol) ## equivalent to `state_timeseries(qif, sol, \"V\")`\n",
    "fig = lines(V);\n",
    "fig"
   ],
   "metadata": {},
   "execution_count": null
  },
  {
   "cell_type": "markdown",
   "source": [
    "Finally we simulate an HH neuron with stochastic dynamics which was introduced in [this article on deep brain stimulation in the subthalamic nucleus](https://doi.org/10.1073/pnas.2120808119).\n",
    "The model includes a brownian noise term affecting `D(V)` which you can inspect using the `equations` function."
   ],
   "metadata": {}
  },
  {
   "outputs": [],
   "cell_type": "code",
   "source": [
    "using StochasticDiffEq ## to access stochastic DE solvers\n",
    "\n",
    "@named hh = HHNeuronExci_STN_Adam_Blox(; σ=2) ## σ is the brownian noise amplitude\n",
    "\n",
    "sys = system(hh)\n",
    "prob = SDEProblem(sys, [], (0, 1000))\n",
    "sol = solve(prob, RKMil())"
   ],
   "metadata": {},
   "execution_count": null
  },
  {
   "cell_type": "markdown",
   "source": [
    "Plot the powerspectrum of the solution"
   ],
   "metadata": {}
  },
  {
   "outputs": [],
   "cell_type": "code",
   "source": [
    "fig = powerspectrumplot(hh, sol; samplig_rate=0.01);\n",
    "fig"
   ],
   "metadata": {},
   "execution_count": null
  },
  {
   "cell_type": "markdown",
   "source": [
    "We can use all other plots from above with this stochastic HH neuron since it is a subtype of `Neuron`. Given its stochastic nature it might be additionally meaningful to show the powerspectrum of its activity.\n",
    "> **_Exercise:_** Try changing the influence of the stochastic term. What do you notice about the powerspectrum of `HHNeuronExci_STN_Adam_Blox`?"
   ],
   "metadata": {}
  },
  {
   "cell_type": "markdown",
   "source": [
    "## Sources"
   ],
   "metadata": {}
  },
  {
   "cell_type": "markdown",
   "source": [
    "External sources in Neuroblox are a particular Blox subtype (`<: AbstractBlox`) which contains a system with output and no input variables.\n",
    "Naturally source Bloxs can only connect **to** other (non-source) Blox and can not receive connections from any Blox.\n",
    "There are two main categories of sources, ones with continuous dynamics for their variables and ones that operate through events (callbacks)."
   ],
   "metadata": {}
  },
  {
   "cell_type": "markdown",
   "source": [
    "### Continuous input sources\n",
    "These sources are comprised of algebraic (and potentially differential) equations that become part of the dynamics of Bloxs that the source connects to.\n",
    "We will drive the `WilsonCowan` Blox above with a `ConstantInput` source. The connection between the two Bloxs looks like"
   ],
   "metadata": {}
  },
  {
   "outputs": [],
   "cell_type": "code",
   "source": [
    "@named inp = ConstantInput(; I=3)\n",
    "\n",
    "connection_rule(inp, nm)"
   ],
   "metadata": {},
   "execution_count": null
  },
  {
   "cell_type": "markdown",
   "source": [
    "This source simply adds a fixed current to the input variable (`nm₊jcn`) of the downstream (destination) Blox."
   ],
   "metadata": {}
  },
  {
   "outputs": [],
   "cell_type": "code",
   "source": [
    "g = MetaDiGraph()\n",
    "add_edge!(g, inp => nm, weight = 1)\n",
    "\n",
    "@named sys = system_from_graph(g)\n",
    "prob = ODEProblem(sys, [], tspan)\n",
    "sol = solve(prob, Tsit5())\n",
    "\n",
    "fig, ax = plot(sol);\n",
    "axislegend(ax)\n",
    "fig"
   ],
   "metadata": {},
   "execution_count": null
  },
  {
   "cell_type": "markdown",
   "source": [
    "Notice how the E-I balance has shifted after adding our input. We will work with a more complex circuit for E-I balance on the next session and learn more about its intricacies."
   ],
   "metadata": {}
  },
  {
   "cell_type": "markdown",
   "source": [
    "We can create custom sources with continuous input the same way we create custom Bloxs and write custom connection rules for them as we have seen in the previous session."
   ],
   "metadata": {}
  },
  {
   "cell_type": "markdown",
   "source": [
    "### Event-based spike sources\n",
    "This type of source operates entirely through callbacks. One common example is a source that simulates spiking from presynaptic neurons that we do not explicitly include in our model.\n",
    "Each time the source's callback is triggered, it affects parameters and/or variables of its postsynaptic neurons which are part of our model.\n",
    "Commonly it is assumed that the spiking of neurons follows a Poisson process. Therefore we have implemented a source in Neuroblox that generates spikes that are distributed according to a Poisson distribution for any finite length of time."
   ],
   "metadata": {}
  },
  {
   "outputs": [],
   "cell_type": "code",
   "source": [
    "tspan = (0, 200) # ms\n",
    "spike_rate = 0.01 # spikes / ms\n",
    "\n",
    "@named spike_train_rate = PoissonSpikeTrain(spike_rate, tspan)"
   ],
   "metadata": {},
   "execution_count": null
  },
  {
   "cell_type": "markdown",
   "source": [
    "The `PoissonSpikeTrain` needs a timespan `Tuple` (`tspan`) to generate spikes within it. Above we have set a fixed `spike_rate` for our process. Alternatively we can also define the spike train with a variable `spike_rate` that is sampled according to any univariate distribution."
   ],
   "metadata": {}
  },
  {
   "outputs": [],
   "cell_type": "code",
   "source": [
    "using Distributions\n",
    "\n",
    "tspan = (0, 200) # ms"
   ],
   "metadata": {},
   "execution_count": null
  },
  {
   "cell_type": "markdown",
   "source": [
    "Define a `NamedTuple` holding a `distribution` and a `dt` field"
   ],
   "metadata": {}
  },
  {
   "outputs": [],
   "cell_type": "code",
   "source": [
    "spike_rate = (distibution = Normal(1, 0.1), dt = 10)\n",
    "\n",
    "@named spike_train_dist = PoissonSpikeTrain(spike_rate, tspan)"
   ],
   "metadata": {},
   "execution_count": null
  },
  {
   "cell_type": "markdown",
   "source": [
    "When choosing a variable `spike_rate` we need to set a `dt` that dictates how often the `distribution` will generate a new `spike_rate` sample. The units of `dt` match the units of `tspan` which by default is ms in Neuroblox.\n",
    "> **_Exercise:_** Define a `LIFExciNeuron`, connect a `PoissonSpikeTrain` to it and tune the source parameters to make the neuron spike.\n",
    "> You can visualize spiking using `rasterplot` and `frplot` as above."
   ],
   "metadata": {}
  },
  {
   "cell_type": "markdown",
   "source": [
    "We can create custom event-based spike sources with a bit more effort compared to continuous ones. Here is a worked example with comments on the necessary steps :"
   ],
   "metadata": {}
  },
  {
   "outputs": [],
   "cell_type": "code",
   "source": [
    "struct BernoulliSpikes <: SpikeSource\n",
    "    name ## necessary field\n",
    "    namespace ## necessary field\n",
    "    tspan ## necessary field\n",
    "    probability_spike\n",
    "    dt\n",
    "    function BernoulliSpikes(probability_spike, tspan, dt; name, namespace=nothing)\n",
    "        new(name, namespace, tspan, probability_spike, dt)\n",
    "    end\n",
    "end\n",
    "\n",
    "import Neuroblox: generate_spike_times, connection_spike_affects\n",
    "\n",
    "function generate_spike_times(source::BernoulliSpikes)"
   ],
   "metadata": {},
   "execution_count": null
  },
  {
   "cell_type": "markdown",
   "source": [
    "Write a function that generates and returns a vector of spike times."
   ],
   "metadata": {}
  },
  {
   "outputs": [],
   "cell_type": "code",
   "source": [
    "    t_range = source.tspan[1]:source.dt:source.tspan[2]\n",
    "    t_spikes = Float64[]\n",
    "    for t in t_range\n",
    "        if rand(Bernoulli(source.probability_spike))\n",
    "            push!(t_spikes, t)\n",
    "        end\n",
    "    end\n",
    "    return t_spikes\n",
    "end\n",
    "\n",
    "function connection_spike_affects(source::BernoulliSpikes, ifn::IFNeuron, w)"
   ],
   "metadata": {},
   "execution_count": null
  },
  {
   "cell_type": "markdown",
   "source": [
    "Write all equations that should be evaluated each time `source` spikes.\n",
    "`w` is the symbolic connection weight, same as in `connection_equations`."
   ],
   "metadata": {}
  },
  {
   "outputs": [],
   "cell_type": "code",
   "source": [
    "    eqs = [ifn.I_in ~ ifn.I_in + w]\n",
    "    return eqs\n",
    "end\n",
    "\n",
    "tspan = (0, 500)\n",
    "@named s = BernoulliSpikes(0.05, tspan, 5)\n",
    "@named ifn = IFNeuron()\n",
    "\n",
    "g = MetaDiGraph()\n",
    "add_edge!(g, s => ifn, weight=1)\n",
    "@named sys = system_from_graph(g)\n",
    "\n",
    "prob = ODEProblem(sys, [], tspan)\n",
    "sol = solve(prob, Tsit5())\n",
    "\n",
    "fig = rasterplot(ifn, sol);\n",
    "fig"
   ],
   "metadata": {},
   "execution_count": null
  },
  {
   "cell_type": "markdown",
   "source": [
    "Notice how spikes become more and more frequently over time. Can you tell why this is happening?"
   ],
   "metadata": {}
  },
  {
   "cell_type": "markdown",
   "source": [
    "### Deep Brain Stimulation\n",
    "Neuroblox contains specialized sources that are common to the field of Deep Brain Stimulation (DBS). These sources simulate stimulation patterns by external probes that are continuous in time, yet contain discrete changes (jumps) on their variables.\n",
    "Even though these sources are often used in DBS protocols, they are implemented as any other source so they can be connected to any other Bloxs given a connection rule.\n",
    "We will first visualize the sources on their own and then connect them to an HH excitatory neuron."
   ],
   "metadata": {}
  },
  {
   "cell_type": "markdown",
   "source": [
    "Square pulse stimulus"
   ],
   "metadata": {}
  },
  {
   "outputs": [],
   "cell_type": "code",
   "source": [
    "@named stim = DBS(\n",
    "                frequency=100.0, ## Hz\n",
    "                amplitude=200.0, ## arbitrary units, depends on how the stimulus is used in the model\n",
    "                pulse_width=0.5, ## ms\n",
    "                offset=0.0,\n",
    "                start_time=5.0, ## ms\n",
    "                smooth=0.0 ## modulates smoothing effect\n",
    ");\n",
    "\n",
    "tspan = (0, 100) ## ms\n",
    "dt = 0.001 ## ms\n",
    "\n",
    "time = tspan[1]:dt:tspan[2]"
   ],
   "metadata": {},
   "execution_count": null
  },
  {
   "cell_type": "markdown",
   "source": [
    "`stimulus` is a function that is also a field of `DBS` objects.\n",
    "It turns a time vector into a vector of stimulus values of the same length given the object's parameters."
   ],
   "metadata": {}
  },
  {
   "outputs": [],
   "cell_type": "code",
   "source": [
    "stimulus = stim.stimulus.(time)\n",
    "\n",
    "fig = Figure();\n",
    "ax1 = Axis(fig[1,1]; xlabel = \"time (ms)\", ylabel = \"stimulus\")\n",
    "lines!(ax1, time, stimulus)\n",
    "fig"
   ],
   "metadata": {},
   "execution_count": null
  },
  {
   "cell_type": "markdown",
   "source": [
    "We can also generate a smoothed pulse train as"
   ],
   "metadata": {}
  },
  {
   "outputs": [],
   "cell_type": "code",
   "source": [
    "@named stim_smooth = DBS(\n",
    "                frequency=100.0,\n",
    "                amplitude=200.0,\n",
    "                pulse_width=0.5,\n",
    "                offset=0.0,\n",
    "                start_time=5.0,\n",
    "                smooth=1e-3\n",
    ");\n",
    "\n",
    "smooth_stimulus = stim_smooth.stimulus.(time)\n",
    "\n",
    "fig = Figure();\n",
    "ax1 = Axis(fig[1,1]; xlabel = \"time (ms)\", ylabel = \"stimulus\")\n",
    "lines!(ax1, time, stimulus) ## plot the un-smoothed stimulus from above\n",
    "xlims!(ax1, 4.9, 5.6) ## set the x-axis limits for better visibility of a smoothed pulse\n",
    "\n",
    "ax2 = Axis(fig[2,1]; xlabel = \"time (ms)\", ylabel = \"stimulus\")\n",
    "lines!(ax2, time, smooth_stimulus) ## plot the smoothed stimulus\n",
    "xlims!(ax2, 4.9, 5.6) ## set the x-axis limits for better visibility of a smoothed pulse\n",
    "\n",
    "fig"
   ],
   "metadata": {},
   "execution_count": null
  },
  {
   "cell_type": "markdown",
   "source": [
    "It is also possible to create a stimulus protocol that does not follow a simple periodic stimulation schedule as above and contains multiple pulses before a quiet time window:"
   ],
   "metadata": {}
  },
  {
   "outputs": [],
   "cell_type": "code",
   "source": [
    "frequency = 20.0\n",
    "amplitude = 1.0\n",
    "pulse_width = 20.0\n",
    "smooth = 3e-4\n",
    "pulse_start_time = 0.01\n",
    "offset = 0\n",
    "pulses_per_burst = 3\n",
    "bursts_per_block = 2\n",
    "pre_block_time = 200.0\n",
    "inter_burst_time = 200.0\n",
    "\n",
    "@named dbs = ProtocolDBS(\n",
    "                frequency=frequency,\n",
    "                amplitude=amplitude,\n",
    "                pulse_width=pulse_width,\n",
    "                smooth=smooth,\n",
    "                offset=offset,\n",
    "                pulses_per_burst=pulses_per_burst,\n",
    "                bursts_per_block=bursts_per_block,\n",
    "                pre_block_time=pre_block_time,\n",
    "                inter_burst_time=inter_burst_time,\n",
    "                start_time = pulse_start_time);\n",
    "\n",
    "t_end = get_protocol_duration(dbs)\n",
    "t_end = t_end + inter_burst_time\n",
    "tspan = (0.0, t_end)\n",
    "dt = 0.001\n",
    "\n",
    "time = tspan[1]:dt:tspan[2]\n",
    "stimulus = dbs.stimulus.(time)\n",
    "\n",
    "fig = Figure();\n",
    "ax1 = Axis(fig[1,1]; xlabel = \"time (ms)\", ylabel = \"stimulus\")\n",
    "lines!(ax1, time, stimulus)\n",
    "fig"
   ],
   "metadata": {},
   "execution_count": null
  },
  {
   "cell_type": "markdown",
   "source": [
    "Now let's finally connect our `ProtocolDBS` source to an HH excitatory neuron and simulate"
   ],
   "metadata": {}
  },
  {
   "outputs": [],
   "cell_type": "code",
   "source": [
    "@named nn = HHNeuronExciBlox(I_bg=0.4)\n",
    "\n",
    "g = MetaDiGraph()\n",
    "add_edge!(g, dbs => nn, weight = 10.0)\n",
    "\n",
    "@named sys = system_from_graph(g)\n",
    "prob = ODEProblem(sys, [], tspan)\n",
    "\n",
    "transitions_inds = detect_transitions(time, stimulus; atol=0.001)\n",
    "transition_times = time[transitions_inds]\n",
    "transition_values = stimulus[transitions_inds]\n",
    "sol = solve(prob, Vern7(), saveat=dt, tstops = transition_times);"
   ],
   "metadata": {},
   "execution_count": null
  },
  {
   "cell_type": "markdown",
   "source": [
    "> **_NOTE_:** We have used `detect_transitions` to find all points where the stimulation switches on and off.\n",
    "> Such points can lead to discontinuities in the dynamics of our model and thus to imprecise solutions.\n",
    "> Adding the transition points explicitly as `tstops` when solving will force the chosen solver\n",
    "> to stop righ before and after each transition and evaluate the equations for greater precision and stability."
   ],
   "metadata": {}
  },
  {
   "cell_type": "markdown",
   "source": [
    "Retrive the timeseries of the voltage variable (`nn₊V`) from the solution"
   ],
   "metadata": {}
  },
  {
   "outputs": [],
   "cell_type": "code",
   "source": [
    "v = voltage_timeseries(nn, sol)"
   ],
   "metadata": {},
   "execution_count": null
  },
  {
   "cell_type": "markdown",
   "source": [
    "Plot the voltage and stimulation timeseries on two axes on the same window."
   ],
   "metadata": {}
  },
  {
   "outputs": [],
   "cell_type": "code",
   "source": [
    "fig = Figure();\n",
    "ax1 = Axis(fig[1,1]; xlabel = \"time (ms)\", ylabel = \"Voltage (mV)\")\n",
    "lines!(ax1, sol.t, v)\n",
    "\n",
    "ax2 = Axis(fig[2,1]; xlabel = \"time (ms)\", ylabel = \"Stimulus (μA/cm²)\")\n",
    "lines!(ax2, sol.t, stimulus)\n",
    "fig"
   ],
   "metadata": {},
   "execution_count": null
  },
  {
   "cell_type": "markdown",
   "source": [
    "## Challenge Problems\n",
    "- Implement a custom `SpikeSource` of your choice. Hint: the `BernoulliSpikes` implementation above.\n",
    "- Write a function that plots the [f-I curve](https://en.wikipedia.org/wiki/F-I_curve) of a Blox. Hint: Consider a `ContantInput` source to vary input currents and `firing_rate(blox, solution; threshold=...)` to calculate firing rates.\n",
    "- Write a function that plots the [Peristimulus time histogram](https://en.wikipedia.org/wiki/Peristimulus_time_histogram) of a Blox around a given timepoint. Hint: use the `hist` or `barplot` plotting functions from `Makie` and `detect_spikes(blox, solution; threshold=...)` to find spikes."
   ],
   "metadata": {}
  },
  {
   "cell_type": "markdown",
   "source": [
    "## References\n",
    "- [1] Gerstner W, Kistler WM, Naud R, Paninski L. Neuronal Dynamics: From Single Neurons to Networks and Models of Cognition, Parts I & II. Cambridge University Press; 2014.\n",
    "- [2] Adam, Elie M., et al. \"Deep brain stimulation in the subthalamic nucleus for Parkinson's disease can restore dynamics of striatal networks.\" Proceedings of the National Academy of Sciences 119.19 (2022): e2120808119."
   ],
   "metadata": {}
  },
  {
   "cell_type": "markdown",
   "source": [
    "---\n",
    "\n",
    "*This notebook was generated using [Literate.jl](https://github.com/fredrikekre/Literate.jl).*"
   ],
   "metadata": {}
  }
 ],
 "nbformat_minor": 3,
 "metadata": {
  "language_info": {
   "file_extension": ".jl",
   "mimetype": "application/julia",
   "name": "julia",
   "version": "1.10.5"
  },
  "kernelspec": {
   "name": "julia-1.10",
   "display_name": "Julia 1.10.5",
   "language": "julia"
  }
 },
 "nbformat": 4
}
