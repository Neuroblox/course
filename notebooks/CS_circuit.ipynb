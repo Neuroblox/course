{
 "cells": [
  {
   "cell_type": "markdown",
   "source": [
    "# Biomimetic model of corticostriatal micro-assemblies"
   ],
   "metadata": {}
  },
  {
   "cell_type": "markdown",
   "source": [
    "## Introduction\n",
    "In this session we will build a neural assembly that is part of a larger model that performs category learning of images [1]. We will follow a bottom-up approach moving across three levels; from `Neuron` Blox objects to a `CompositeBlox` containing `Neuron` objects to a `CompositeBlox` containing the first `CompositeBlox`."
   ],
   "metadata": {}
  },
  {
   "cell_type": "markdown",
   "source": [
    "In a later session we will extend this model and add synaptic plasticity to it to perform category learning, as a simplified version of [1]."
   ],
   "metadata": {}
  },
  {
   "cell_type": "markdown",
   "source": [
    "## Lateral Inhibition Circuit"
   ],
   "metadata": {}
  },
  {
   "outputs": [],
   "cell_type": "code",
   "source": [
    "using Neuroblox\n",
    "using OrdinaryDiffEq\n",
    "using Random\n",
    "using CairoMakie"
   ],
   "metadata": {},
   "execution_count": null
  },
  {
   "cell_type": "markdown",
   "source": [
    "First we will manually create a lateral inhibition circuit (*Figure 1*, the \"winner-takes-all\" circuit) to better understand its components. This circuit is inspired by the structure of the superficial cortical layer."
   ],
   "metadata": {}
  },
  {
   "cell_type": "markdown",
   "source": [
    "![Lateral inhibition in the winner-takes-all circuit](./assets/CS_WTA.png)"
   ],
   "metadata": {}
  },
  {
   "cell_type": "markdown",
   "source": [
    "*Figure 1: Lateral inhibition in the winner-takes-all circuit.*"
   ],
   "metadata": {}
  },
  {
   "outputs": [],
   "cell_type": "code",
   "source": [
    "model_name = :g\n",
    "\n",
    "@named inh = HHNeuronInhibBlox(namespace=model_name, G_syn = 4.0) ##feedback inhibitory interneuron neuron\n",
    "\n",
    "##creating an array of excitatory pyramidal neurons\n",
    "@named exci1 = HHNeuronExciBlox(namespace=model_name, I_bg = 5*rand())\n",
    "@named exci2 = HHNeuronExciBlox(namespace=model_name, I_bg = 5*rand())\n",
    "@named exci3 = HHNeuronExciBlox(namespace=model_name, I_bg = 5*rand())\n",
    "@named exci4 = HHNeuronExciBlox(namespace=model_name, I_bg = 5*rand())\n",
    "@named exci5 = HHNeuronExciBlox(namespace=model_name, I_bg = 5*rand())\n",
    "\n",
    "g = MetaDiGraph()\n",
    "\n",
    "for exci_neuron in [exci1, exci2, exci3, exci4, exci5]\n",
    "    add_edge!(g, inh => exci_neuron, weight = 1)\n",
    "    add_edge!(g, exci_neuron => inh, weight = 1)\n",
    "end"
   ],
   "metadata": {},
   "execution_count": null
  },
  {
   "cell_type": "markdown",
   "source": [
    "As we can see, the lateral inhibition circuit is made up of 5 excitatory neurons with each one having a reciprocal connection to the same inhibitory interneuron."
   ],
   "metadata": {}
  },
  {
   "outputs": [],
   "cell_type": "code",
   "source": [
    "@named sys = system_from_graph(g)\n",
    "prob = ODEProblem(sys, [], (0.0, 1000), [])\n",
    "sol = solve(prob, Vern7())\n",
    "fig = stackplot([exci1, exci2, exci3, exci4, exci5, inh], sol)"
   ],
   "metadata": {},
   "execution_count": null
  },
  {
   "cell_type": "markdown",
   "source": [
    "`stackplot` stacks the voltage timeseries of each input neuron on top of each other. Excitatory neurons appear in blue and inhibitory neurons in red by default. The y-axis scale is meaningless due to timeseries offsets, yet the plot offers a useful look into spiking patterns in a population.\n",
    "> **_Exercise:_** Try varying the size of the circuit by changing the number of excitatory neurons, while keeping the same structure (all of them connect to the inhibitory neuron and vice versa)."
   ],
   "metadata": {}
  },
  {
   "cell_type": "markdown",
   "source": [
    "The circuit we just built is implemented as a single Blox in Neuroblox. The `WinnerTakeAllBlox` is a subtype of `CompositeBlox`. Now we will connect two of these together using the Neuroblox strutures."
   ],
   "metadata": {}
  },
  {
   "outputs": [],
   "cell_type": "code",
   "source": [
    "N_exci = 5 ## number of excitatory neurons in each WTA circuit"
   ],
   "metadata": {},
   "execution_count": null
  },
  {
   "cell_type": "markdown",
   "source": [
    "For a single-valued input `I_bg`, each neuron in the WTA Blox will receive a uniformly distributed random background current from 0 to `I_bg`."
   ],
   "metadata": {}
  },
  {
   "outputs": [],
   "cell_type": "code",
   "source": [
    "@named wta1 = WinnerTakeAllBlox(namespace=model_name, I_bg=5, N_exci=N_exci)\n",
    "@named wta2 = WinnerTakeAllBlox(namespace=model_name, I_bg=4, N_exci=N_exci)\n",
    "\n",
    "g = MetaDiGraph()\n",
    "add_edge!(g, wta1 => wta2, weight=1, density=0.5);"
   ],
   "metadata": {},
   "execution_count": null
  },
  {
   "cell_type": "markdown",
   "source": [
    "The `density` keyword argument sets the connection probability from each excitatory neuron of `wta1` to each excitatory neuron of `wta2`.\n",
    "Whether a connection is actually made or not depends on a Bernoulli trial with probability of success equal to `density`."
   ],
   "metadata": {}
  },
  {
   "outputs": [],
   "cell_type": "code",
   "source": [
    "sys = system_from_graph(g, name=model_name)\n",
    "prob = ODEProblem(sys, [], (0.0, 1000), [])\n",
    "sol = solve(prob, Vern7())\n",
    "\n",
    "neuron_set = get_neurons([wta1, wta2]) ## extract neurons from a composite blocks\n",
    "fig = stackplot(neuron_set, sol)"
   ],
   "metadata": {},
   "execution_count": null
  },
  {
   "cell_type": "markdown",
   "source": [
    "## Cortical Superficial Layer"
   ],
   "metadata": {}
  },
  {
   "cell_type": "markdown",
   "source": [
    "Now we are ready to create a single cortical superficial layer block by connecting multiple WTA circuits"
   ],
   "metadata": {}
  },
  {
   "cell_type": "markdown",
   "source": [
    "This model is SCORT in [1] and looks like the one in *Figure 2*."
   ],
   "metadata": {}
  },
  {
   "cell_type": "markdown",
   "source": [
    "![Cortical circuit with multiple WTA microcircuits](./assets/CS_Cortical.png)"
   ],
   "metadata": {}
  },
  {
   "cell_type": "markdown",
   "source": [
    "*Figure 2: Cortical circuit with multiple WTA microcircuits.*"
   ],
   "metadata": {}
  },
  {
   "outputs": [],
   "cell_type": "code",
   "source": [
    "N_wta = 10 ## number of WTA circuits"
   ],
   "metadata": {},
   "execution_count": null
  },
  {
   "cell_type": "markdown",
   "source": [
    "parameters"
   ],
   "metadata": {}
  },
  {
   "outputs": [],
   "cell_type": "code",
   "source": [
    "N_exci = 5   ## number of pyramidal neurons in each lateral inhibition (WTA) circuit\n",
    "G_syn_exci = 3.0 ## maximal synaptic conductance in glutamatergic (excitatory) synapses\n",
    "G_syn_inhib = 4.0 ## maximal synaptic conductance in GABAergic (inhibitory) synapses from feedback interneurons\n",
    "G_syn_ff_inhib = 3.5 ## maximal synaptic conductance in GABAergic (inhibitory) synapses from feedforward interneurons\n",
    "I_bg = 5.0 ## background input current\n",
    "density = 0.01 ## connection density between WTA circuits"
   ],
   "metadata": {},
   "execution_count": null
  },
  {
   "cell_type": "markdown",
   "source": [
    "create a vector of `WinnerTakesAllBlox` using list comprehension"
   ],
   "metadata": {}
  },
  {
   "outputs": [],
   "cell_type": "code",
   "source": [
    "wtas = [WinnerTakeAllBlox(;\n",
    "                        name=Symbol(\"wta$i\"), ## manually add a name instead of using the @named macro\n",
    "                        namespace=model_name,\n",
    "                        N_exci=N_exci,\n",
    "                        G_syn_exci=G_syn_exci,\n",
    "                        G_syn_inhib=G_syn_inhib,\n",
    "                        I_bg = I_bg\n",
    "                        )\n",
    "for i = 1:N_wta]\n",
    "\n",
    "@named n_ff_inh = HHNeuronInhibBlox(; namespace=model_name, G_syn=G_syn_ff_inhib)\n",
    "\n",
    "g = MetaDiGraph()\n",
    "\n",
    "for i in 1:N_wta\n",
    "    for j in 1:N_wta\n",
    "        if j != i\n",
    "            add_edge!(g, wtas[i] => wtas[j], weight=1, density=density);\n",
    "        end\n",
    "    end\n",
    "    add_edge!(g, n_ff_inh => wtas[i], weight=1);\n",
    "end"
   ],
   "metadata": {},
   "execution_count": null
  },
  {
   "cell_type": "markdown",
   "source": [
    "WTA circuits connect to each other with given connection density and the feedforward interneuron connects to each WTA circuit.\n",
    "The feed-forward interneuron `n_ff_inh` receives input from the excitatory (pyramidal) cells of the WTA circuits and it is largely responsible for controlling the spiking rhythm of the ensemble of WTAs."
   ],
   "metadata": {}
  },
  {
   "outputs": [],
   "cell_type": "code",
   "source": [
    "sys = system_from_graph(g, name = model_name)\n",
    "prob = ODEProblem(sys, [], (0.0, 1000))\n",
    "sol = solve(prob, Vern7())\n",
    "\n",
    "wta_neurons = get_neurons(wtas) ## extract neurons from WTA circuits\n",
    "neurons = vcat(wta_neurons, n_ff_inh)\n",
    "fig = stackplot(neurons, sol)"
   ],
   "metadata": {},
   "execution_count": null
  },
  {
   "cell_type": "markdown",
   "source": [
    "> **_Exercise:_** Try different connection densities and weights and see how it affects the population activity."
   ],
   "metadata": {}
  },
  {
   "cell_type": "markdown",
   "source": [
    "## Cortical Superficial Layer with Ascending System"
   ],
   "metadata": {}
  },
  {
   "cell_type": "markdown",
   "source": [
    "The next step is to expand the cortical model we just created by adding a Blox representing an ascending system (ASC1 in [1]) to it.\n",
    "We define the ascending system using a Next Generation Neural Mass model as described in [2]. The neural mass parameters are fixed to generate a 16 Hz modulating frequency in the cortical neurons."
   ],
   "metadata": {}
  },
  {
   "outputs": [],
   "cell_type": "code",
   "source": [
    "@named ASC1 = NextGenerationEIBlox(;namespace=model_name, Cₑ=2*26, Cᵢ=26, v_synₑₑ=10.0, v_synₑᵢ=-10.0, v_synᵢₑ=10.0, v_synᵢᵢ=-10.0, alpha_invₑₑ=10.0/26, alpha_invₑᵢ=0.8/26, alpha_invᵢₑ=10.0/26, alpha_invᵢᵢ=0.8/26, kₑᵢ=0.6*26, kᵢₑ=0.6*26);"
   ],
   "metadata": {},
   "execution_count": null
  },
  {
   "cell_type": "markdown",
   "source": [
    "Similar to `WinnerTakeAllBlox`, the cortical model we created above by connecting multiple WTAs together is implemented as a single Blox in Neuroblox. This is the `CorticalBlox` and it models a superficial layer cortical microcircuit.\n",
    "So `CorticalBlox` is a hierarchical Blox which holds a feedforward interneuron and multiple `WinnerTakeAllBlox` which in turn hold multiple excitatory neurons and one feedback interneuron each."
   ],
   "metadata": {}
  },
  {
   "cell_type": "markdown",
   "source": [
    "number if WTA circuits = N_wta=45\n",
    "number of pyramidal neurons in each WTA circuit = N_exci = 5"
   ],
   "metadata": {}
  },
  {
   "outputs": [],
   "cell_type": "code",
   "source": [
    "@named CB = CorticalBlox(N_wta=10, N_exci=5, density=0.01, weight=1, I_bg_ar=7; namespace=model_name)\n",
    "\n",
    "g = MetaDiGraph()\n",
    "add_edge!(g, ASC1 => CB, weight=44)"
   ],
   "metadata": {},
   "execution_count": null
  },
  {
   "cell_type": "markdown",
   "source": [
    "solve the system for time 0 to 1000 ms"
   ],
   "metadata": {}
  },
  {
   "outputs": [],
   "cell_type": "code",
   "source": [
    "sys = system_from_graph(g, name = model_name)\n",
    "prob = ODEProblem(sys, [], (0.0, 1000))\n",
    "sol = solve(prob, Vern7());\n",
    "\n",
    "neuron_set = get_neurons(CB) ## extract neurons from a composite block like CorticalBlox\n",
    "n_neurons = 50 ## set number of neurons to display in the stackplot\n",
    "fig = stackplot(neuron_set[1:n_neurons], sol)"
   ],
   "metadata": {},
   "execution_count": null
  },
  {
   "cell_type": "markdown",
   "source": [
    "We can also generate plots of averaged activity in any composite Blox like `CorticalBlox` and `WinnerTakeAllBlox`.\n",
    "For instance the meanfield of all cortical block neurons (mean membrane voltage)"
   ],
   "metadata": {}
  },
  {
   "outputs": [],
   "cell_type": "code",
   "source": [
    "fig = meanfield(CB, sol)"
   ],
   "metadata": {},
   "execution_count": null
  },
  {
   "cell_type": "markdown",
   "source": [
    "and the powerspectrum of the meanfield (average over membrane potentials)"
   ],
   "metadata": {}
  },
  {
   "outputs": [],
   "cell_type": "code",
   "source": [
    "fig = powerspectrumplot(CB, sol; sampling_rate=0.01)"
   ],
   "metadata": {},
   "execution_count": null
  },
  {
   "cell_type": "markdown",
   "source": [
    "Notice the peak at 16 Hz, representing beta oscillations.\n",
    "> **_Exercise:_** Try changing parameters of `ASC1` to generate different cortical rhythms."
   ],
   "metadata": {}
  },
  {
   "cell_type": "markdown",
   "source": [
    "## Visual Processing in the extended Cortical model"
   ],
   "metadata": {}
  },
  {
   "cell_type": "markdown",
   "source": [
    "Finally we will simulate visual processing in our model by adding a `CorticalBlox` representing visual area cortex (VAC) and an `ImageStimulus` connected to it. This extended model is shown in *Figure 3*."
   ],
   "metadata": {}
  },
  {
   "cell_type": "markdown",
   "source": [
    "![Extended circuit with Cortex, Brainstem and Image Stimulus components](./assets/CS_extended.png)"
   ],
   "metadata": {}
  },
  {
   "cell_type": "markdown",
   "source": [
    "*Figure 3: Extended circuit with Cortex, Brainstem and Image Stimulus components.*"
   ],
   "metadata": {}
  },
  {
   "outputs": [],
   "cell_type": "code",
   "source": [
    "@named VAC = CorticalBlox(namespace=model_name, N_wta=10, N_exci=5,  density=0.01, weight=1)\n",
    "@named AC = CorticalBlox(namespace=model_name, N_wta=10, N_exci=5, density=0.01, weight=1)"
   ],
   "metadata": {},
   "execution_count": null
  },
  {
   "cell_type": "markdown",
   "source": [
    "ascending system blox, modulating frequency set to 16 Hz"
   ],
   "metadata": {}
  },
  {
   "outputs": [],
   "cell_type": "code",
   "source": [
    "@named ASC1 = NextGenerationEIBlox(namespace=model_name, Cₑ=2*26,Cᵢ=1*26, Δₑ=0.5, Δᵢ=0.5, η_0ₑ=10.0, v_synₑₑ=10.0, v_synₑᵢ=-10.0, v_synᵢₑ=10.0, v_synᵢᵢ=-10.0, alpha_invₑₑ=10.0/26, alpha_invₑᵢ=0.8/26, alpha_invᵢₑ=10.0/26, alpha_invᵢᵢ=0.8/26, kₑᵢ=0.6*26, kᵢₑ=0.6*26)\n",
    "\n",
    "using CSV ## to read data from CSV files\n",
    "using DataFrames ## to format the data into DataFrames\n",
    "using Downloads ## to download image stimuli files\n",
    "\n",
    "image_set = CSV.read(Downloads.download(\"raw.githubusercontent.com/Neuroblox/NeurobloxDocsHost/refs/heads/main/data/image_example.csv\"), DataFrame) ## reading data into DataFrame format\n",
    "image_sample = 2 ## set which image to input (from 1 to 1000)\n",
    "\n",
    "@named stim = ImageStimulus(\n",
    "    image_set[[image_sample], :],\n",
    "    namespace=model_name,\n",
    "    t_stimulus = 1000, ## how long the stimulus is on (in msec)\n",
    "    t_pause = 0 ## how long the stimulus is off after `t_stimulus` (in msec)\n",
    ");"
   ],
   "metadata": {},
   "execution_count": null
  },
  {
   "cell_type": "markdown",
   "source": [
    "access the desired image sample, exclude the last row that is a category label"
   ],
   "metadata": {}
  },
  {
   "outputs": [],
   "cell_type": "code",
   "source": [
    "pixels = Array(image_set[image_sample, 1:end-1])"
   ],
   "metadata": {},
   "execution_count": null
  },
  {
   "cell_type": "markdown",
   "source": [
    "reshape into 15 X 15 square image matrix"
   ],
   "metadata": {}
  },
  {
   "outputs": [],
   "cell_type": "code",
   "source": [
    "pixels = reshape(pixels, 15, 15)"
   ],
   "metadata": {},
   "execution_count": null
  },
  {
   "cell_type": "markdown",
   "source": [
    "plot the image that the visual cortex 'sees'"
   ],
   "metadata": {}
  },
  {
   "outputs": [],
   "cell_type": "code",
   "source": [
    "fig = heatmap(pixels, colormap = :gray1)"
   ],
   "metadata": {},
   "execution_count": null
  },
  {
   "cell_type": "markdown",
   "source": [
    "Above we can see an example image stimulus. Each pixel of the image stimulus is a variable (`stim₊u_i`) that connects to a neuron of the visual cortex `VAC` Blox. Using `connection_rule(stim, VAC)` we can better see how this connection is implemented."
   ],
   "metadata": {}
  },
  {
   "outputs": [],
   "cell_type": "code",
   "source": [
    "g = MetaDiGraph()\n",
    "add_edge!(g, stim => VAC, weight=14)\n",
    "add_edge!(g, ASC1 => VAC, weight=44)\n",
    "add_edge!(g, ASC1 => AC, weight=44)\n",
    "add_edge!(g, VAC => AC, weight=3, density=0.08)"
   ],
   "metadata": {},
   "execution_count": null
  },
  {
   "cell_type": "markdown",
   "source": [
    "define system and solve"
   ],
   "metadata": {}
  },
  {
   "outputs": [],
   "cell_type": "code",
   "source": [
    "sys = system_from_graph(g, name=model_name)\n",
    "prob = ODEProblem(sys, [], (0.0, 1000))\n",
    "sol = solve(prob, Vern7());"
   ],
   "metadata": {},
   "execution_count": null
  },
  {
   "cell_type": "markdown",
   "source": [
    "> **_Exercise:_** : Use the plotting functions from above to visualize the simulation results for any Blox of your choice.\n",
    "> Try changing the image samples and notice the change in the spatial firing patterns in VAC and AC neurons."
   ],
   "metadata": {}
  },
  {
   "cell_type": "markdown",
   "source": [
    "## Challenge Problems\n",
    "- Try changing parameters of ASC1, which is modeled as Next Generation Neural Mass Model to generate different cortical rhythms. See how the peak shifts in the power spectrum when you connect AC1 to a cortical block CB. Currently it’s set for 16 hz oscillation. See if you can get it to oscillate at 5 Hz, 10 Hz and 20 Hz.\n",
    "- In the circuit with ASC1, VAC, AC and stimuli, add another ascending input ‘ASC2’ such that ASC1 connects only to VAC and ASC2 connects only to AC. Now set the parameters of ASC2 to oscillate at different frequencies (5 Hz, 10 Hz etc.). Observe the power spectrum of the activity of AC, does it show two peaks?\n",
    "- Try different values of t_stimulus and t_pause that are set during defining the stimulus (such that t_stimulus + t_pause = 1000 msec). See the effect in the activities of VAC and AC in their stack plots. You will notice that the activity in the cortical blocks stops after t=t_stimulus. Now try making multiple cortical blocks similar to AC (AC1, AC2 say). Try connecting them in different topologies. One possibility is a chain i.e VAC -> AC1 -> AC2 … so on. Another possibility is of a loop i.e. VAC -> AC1 -> AC2 …. -> AC1. In this loop, the activity can sustain even in the absence of stimulus (during t_pause) due to the feedback loop. Try and see if you can create a loop where activity persists even after t=t_stimulus."
   ],
   "metadata": {}
  },
  {
   "cell_type": "markdown",
   "source": [
    "## References\n",
    "- [1] Pathak A., Brincat S., Organtzidis H., Strey H., Senneff S., Antzoulatos E., Mujica-Parodi L., Miller E., Granger R. Biomimetic model of corticostriatal micro-assemblies discovers new neural code., bioRxiv 2023.11.06.565902, 2024\n",
    "- [2] Byrne Á, O'Dea RD, Forrester M, Ross J, Coombes S. Next-generation neural mass and field modeling. J Neurophysiol. 2020 Feb 1;123(2):726-742. doi: 10.1152/jn.00406.2019. Epub 2019 Nov 27. PMID: 31774370."
   ],
   "metadata": {}
  },
  {
   "cell_type": "markdown",
   "source": [
    "---\n",
    "\n",
    "*This notebook was generated using [Literate.jl](https://github.com/fredrikekre/Literate.jl).*"
   ],
   "metadata": {}
  }
 ],
 "nbformat_minor": 3,
 "metadata": {
  "language_info": {
   "file_extension": ".jl",
   "mimetype": "application/julia",
   "name": "julia",
   "version": "1.10.5"
  },
  "kernelspec": {
   "name": "julia-1.10",
   "display_name": "Julia 1.10.5",
   "language": "julia"
  }
 },
 "nbformat": 4
}
