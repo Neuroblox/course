{
 "cells": [
  {
   "cell_type": "markdown",
   "source": [
    "# Differential Equations with ModelingToolkit"
   ],
   "metadata": {}
  },
  {
   "cell_type": "markdown",
   "source": [
    "Introduction\n",
    "In this session we will learn how to define and solve differential equation systems using a symbolic representation with [ModelingToolkit](https://docs.sciml.ai/ModelingToolkit/stable/). First we will work with a popular two-dimensional model called the Lotka-Volterra system."
   ],
   "metadata": {}
  },
  {
   "cell_type": "markdown",
   "source": [
    "The Lotka-Volterra equations, while originally developed to model predator-prey dynamics in ecology, serve as an excellent starting point for computational neuroscience. They introduce fundamental concepts of dynamical systems that are crucial in neuroscience. These equations demonstrate how two variables can interact and influence each other over time - similar to how neurons or neural populations interact. Understanding this behavior helps build intuition for more complex systems where neurons form feedback and feedforward connections with one another."
   ],
   "metadata": {}
  },
  {
   "cell_type": "markdown",
   "source": [
    "We will then proceed to model our first neuron using the Izhikevich model [1]. Even though the model appears simple, it can exhibit many different spiking patterns (e.g. regular and fast spiking, bursting, chattering) by changing its parameters. Such parameter changes simulate both intrinsic (e.g. neuromodulation, neurotransmitter availability) and extrinsic (e.g. pharmacological interventions) factors. Neurons that change their spiking behavior can affect the stability of entire neuronal networks of which they are part."
   ],
   "metadata": {}
  },
  {
   "cell_type": "markdown",
   "source": [
    "Learning goals:\n",
    "- Learn about ModelingToolkit, the symbolic way to define differential equation systems.\n",
    "- Implement a neuron model using ModelingToolkit and simulate spiking"
   ],
   "metadata": {}
  },
  {
   "cell_type": "markdown",
   "source": [
    "## Lotka-Volterra system"
   ],
   "metadata": {}
  },
  {
   "cell_type": "markdown",
   "source": [
    "Import the packages we need"
   ],
   "metadata": {}
  },
  {
   "outputs": [],
   "cell_type": "code",
   "source": [
    "using ModelingToolkit ## for symbolic system definition\n",
    "using ModelingToolkit: t_nounits as t, D_nounits as D ## generic symbolic time variable and derivative operator\n",
    "using OrdinaryDiffEq ## for ODE solvers\n",
    "using CairoMakie ## for plotting"
   ],
   "metadata": {},
   "execution_count": null
  },
  {
   "cell_type": "markdown",
   "source": [
    "Time-dependent variables.\n",
    "The assigned values are default values that will be used as initial conditions if initial conditions are not explicitly provided."
   ],
   "metadata": {}
  },
  {
   "outputs": [],
   "cell_type": "code",
   "source": [
    "@variables x(t)=1 y(t)=1"
   ],
   "metadata": {},
   "execution_count": null
  },
  {
   "cell_type": "markdown",
   "source": [
    "Parameters with assigned values"
   ],
   "metadata": {}
  },
  {
   "outputs": [],
   "cell_type": "code",
   "source": [
    "@parameters a=1.5 b=1.0 c=3.0 d=1.0"
   ],
   "metadata": {},
   "execution_count": null
  },
  {
   "cell_type": "markdown",
   "source": [
    "Model equations"
   ],
   "metadata": {}
  },
  {
   "outputs": [],
   "cell_type": "code",
   "source": [
    "eqs = [D(x) ~ a * x - b * x * y,\n",
    "       D(y) ~ -c * y + d * x * y]"
   ],
   "metadata": {},
   "execution_count": null
  },
  {
   "cell_type": "markdown",
   "source": [
    "Model system, defined by the equations, the independent time variable, the time-dependent variables and the parameters"
   ],
   "metadata": {}
  },
  {
   "outputs": [],
   "cell_type": "code",
   "source": [
    "@named sys = ODESystem(eqs, t, [x, y], [a, b, c, d])"
   ],
   "metadata": {},
   "execution_count": null
  },
  {
   "cell_type": "markdown",
   "source": [
    "Simplified system equations. Necessary step before solving!"
   ],
   "metadata": {}
  },
  {
   "outputs": [],
   "cell_type": "code",
   "source": [
    "simpsys = structural_simplify(sys)"
   ],
   "metadata": {},
   "execution_count": null
  },
  {
   "cell_type": "markdown",
   "source": [
    "Simulation timespan"
   ],
   "metadata": {}
  },
  {
   "outputs": [],
   "cell_type": "code",
   "source": [
    "tspan = (0.0, 10.0)"
   ],
   "metadata": {},
   "execution_count": null
  },
  {
   "cell_type": "markdown",
   "source": [
    "Initial conditions. A vector of pairs of the form `[state => initial_condition, ...]`"
   ],
   "metadata": {}
  },
  {
   "outputs": [],
   "cell_type": "code",
   "source": [
    "u0 = [x => 5, y => 2]"
   ],
   "metadata": {},
   "execution_count": null
  },
  {
   "cell_type": "markdown",
   "source": [
    "Problem to be solved"
   ],
   "metadata": {}
  },
  {
   "outputs": [],
   "cell_type": "code",
   "source": [
    "prob = ODEProblem(simpsys, u0, tspan)"
   ],
   "metadata": {},
   "execution_count": null
  },
  {
   "cell_type": "markdown",
   "source": [
    "Solution of the problem using the Tsit5 solver"
   ],
   "metadata": {}
  },
  {
   "outputs": [],
   "cell_type": "code",
   "source": [
    "sol = solve(prob, Tsit5());"
   ],
   "metadata": {},
   "execution_count": null
  },
  {
   "cell_type": "markdown",
   "source": [
    "The solution object contains the values of every variable of the system (`x` and `y`) for every simulated timestep. One can easily access the values of a specific variable using its symbolic name"
   ],
   "metadata": {}
  },
  {
   "outputs": [],
   "cell_type": "code",
   "source": [
    "sol[x] ## or similarly sol[y]"
   ],
   "metadata": {},
   "execution_count": null
  },
  {
   "cell_type": "markdown",
   "source": [
    "Finally we can plot the timeseries of both variables of the solution in a line plot using"
   ],
   "metadata": {}
  },
  {
   "outputs": [],
   "cell_type": "code",
   "source": [
    "fig = plot(sol)"
   ],
   "metadata": {},
   "execution_count": null
  },
  {
   "cell_type": "markdown",
   "source": [
    "display the figure"
   ],
   "metadata": {}
  },
  {
   "outputs": [],
   "cell_type": "code",
   "source": [
    "fig"
   ],
   "metadata": {},
   "execution_count": null
  },
  {
   "cell_type": "markdown",
   "source": [
    "We will shortly see more plot types and options."
   ],
   "metadata": {}
  },
  {
   "cell_type": "markdown",
   "source": [
    "## Izhikevich Neuron"
   ],
   "metadata": {}
  },
  {
   "cell_type": "markdown",
   "source": [
    "### Simulating spikes"
   ],
   "metadata": {}
  },
  {
   "cell_type": "markdown",
   "source": [
    "The Izhikevich neuron is a similar system of ODEs like the Lotka-Volterra example above. One notable difference however is the spiking mechanism.\n",
    "Spiking in the Izhikevich neuron needs to be implemented \"manually\". That is we need to detect when the voltage variable crosses a spiking threshold and every time this event happens we need to reset the neuron's voltage to a more polarized value and potentially alter other variables too."
   ],
   "metadata": {}
  },
  {
   "outputs": [],
   "cell_type": "code",
   "source": [
    "@variables v(t)=-65 u(t)=-13"
   ],
   "metadata": {},
   "execution_count": null
  },
  {
   "cell_type": "markdown",
   "source": [
    "The following parameter values correspond to chattering spiking."
   ],
   "metadata": {}
  },
  {
   "outputs": [],
   "cell_type": "code",
   "source": [
    "@parameters a=0.02 b=0.2 c=-50 d=2 I=10\n",
    "\n",
    "eqs = [D(v) ~ 0.04 * v ^ 2 + 5 * v + 140 - u + I,\n",
    "        D(u) ~ a * (b * v - u)]"
   ],
   "metadata": {},
   "execution_count": null
  },
  {
   "cell_type": "markdown",
   "source": [
    "Now we need to define the callback to simulate spikes. Spiking callbacks belong to the family of discrete callbacks and are defined by two parts :\n",
    "- a condition which  triggers the callback every timestep it evaluates as `true`, e.g. `v > 30` means that each time the neuron voltage `v` rises above `30` mV a spike is triggered.\n",
    "- a list of equations that assign values to variables and/or parameters, e.g. `v ~ -50` means that when a spike is triggered the voltage is resetted to `-50` mV.\n",
    "The spiking event for this model looks like this"
   ],
   "metadata": {}
  },
  {
   "outputs": [],
   "cell_type": "code",
   "source": [
    "event = (v > 30.0) => [u ~ u + d, v ~ c]"
   ],
   "metadata": {},
   "execution_count": null
  },
  {
   "cell_type": "markdown",
   "source": [
    "Now we can move on to define the system including the spiking event, create a problem and solve it."
   ],
   "metadata": {}
  },
  {
   "cell_type": "markdown",
   "source": [
    "Model system and simplification."
   ],
   "metadata": {}
  },
  {
   "outputs": [],
   "cell_type": "code",
   "source": [
    "@named izh_system = ODESystem(eqs, t, [v, u], [a, b, c, d, I]; discrete_events = event)\n",
    "izh_simple = structural_simplify(izh_system)"
   ],
   "metadata": {},
   "execution_count": null
  },
  {
   "cell_type": "markdown",
   "source": [
    "Initial conditions."
   ],
   "metadata": {}
  },
  {
   "outputs": [],
   "cell_type": "code",
   "source": [
    "u0 = [v => -65.0, u => -13.0]"
   ],
   "metadata": {},
   "execution_count": null
  },
  {
   "cell_type": "markdown",
   "source": [
    "Simulation timespan"
   ],
   "metadata": {}
  },
  {
   "outputs": [],
   "cell_type": "code",
   "source": [
    "tspan = (0.0, 400.0)\n",
    "\n",
    "izh_prob = ODEProblem(izh_simple, u0, tspan)\n",
    "\n",
    "izh_sol = solve(izh_prob)\n",
    "\n",
    "fig = plot(izh_sol)\n",
    "fig"
   ],
   "metadata": {},
   "execution_count": null
  },
  {
   "cell_type": "markdown",
   "source": [
    "or if we want to plot just the voltage timeseries with its spiking pattern"
   ],
   "metadata": {}
  },
  {
   "outputs": [],
   "cell_type": "code",
   "source": [
    "fig = plot(izh_sol; idxs=[v])\n",
    "fig"
   ],
   "metadata": {},
   "execution_count": null
  },
  {
   "cell_type": "markdown",
   "source": [
    "### Changing parameter values and initial conditions\n",
    "After defining and simulating a system we might want to run another simulation by changing either or both of the parameter values and the initial conditions.\n",
    "The Izhikevich neuron that we simulated above has multiple spiking regimes that correspond to different parameter value combinations. If we have our `ODEProblem` already defined as the `izh_prob` variable above, we can remake it by keeping everything the same except for the fields that we choose to alter.\n",
    "Here we will change only the model parameters to change from chattering to fast spiking."
   ],
   "metadata": {}
  },
  {
   "outputs": [],
   "cell_type": "code",
   "source": [
    "izh_prob = remake(izh_prob; p = [a => 0.1, b => 0.2, c => -65, d => 2])"
   ],
   "metadata": {},
   "execution_count": null
  },
  {
   "cell_type": "markdown",
   "source": [
    "or we can change the initial conditions along with the parameters as"
   ],
   "metadata": {}
  },
  {
   "outputs": [],
   "cell_type": "code",
   "source": [
    "izh_prob = remake(izh_prob; p = [a => 0.1, b => 0.2, c => -65, d => 2], u0 = [v => -70, u => -10])\n",
    "\n",
    "izh_sol = solve(izh_prob)\n",
    "\n",
    "fig = plot(izh_sol; idxs=[v])\n",
    "fig"
   ],
   "metadata": {},
   "execution_count": null
  },
  {
   "cell_type": "markdown",
   "source": [
    "Notice how the spiking pattern has changed compared to the previous simulation."
   ],
   "metadata": {}
  },
  {
   "cell_type": "markdown",
   "source": [
    "### Adding external currents\n",
    "Until now we have been simulating the Izhikevich neuron by injecting it with a constant external DC current `I=10`. We'll now see how we can expand the `I` input to a dynamic current, which is more realistic (currents do not remain constant in the brain for too long).\n",
    "Since `I` will change dynamically in time, it will be a time-dependent variable of the system and not a constant parameter."
   ],
   "metadata": {}
  },
  {
   "outputs": [],
   "cell_type": "code",
   "source": [
    "@variables v(t)=-65 u(t)=-13 I(t)\n",
    "@parameters a=0.02 b=0.2 c=-65 d=8 ## These parameter values correspond to regular spiking.\n",
    "\n",
    "eqs = [D(v) ~ 0.04 * v ^ 2 + 5 * v + 140 - u + I,\n",
    "        D(u) ~ a * (b * v - u),\n",
    "        I ~ 10*sin(0.5*t)]\n",
    "\n",
    "event = (v > 30.0) => [u ~ u + d, v ~ c]\n",
    "\n",
    "@named izh_system = ODESystem(eqs, t, [v, u, I], [a, b, c, d]; discrete_events = event)\n",
    "izh_simple = structural_simplify(izh_system)"
   ],
   "metadata": {},
   "execution_count": null
  },
  {
   "cell_type": "markdown",
   "source": [
    "Notice how `I` was moved from the parameter list to the variable list above. Let's display the equations of the original and the simplified system to see the effect of `structural_simplify`."
   ],
   "metadata": {}
  },
  {
   "outputs": [],
   "cell_type": "code",
   "source": [
    "equations(izh_system)"
   ],
   "metadata": {},
   "execution_count": null
  },
  {
   "cell_type": "markdown",
   "source": [
    "The original system contains the algebraic equation for the external current `I`."
   ],
   "metadata": {}
  },
  {
   "outputs": [],
   "cell_type": "code",
   "source": [
    "equations(izh_simple)"
   ],
   "metadata": {},
   "execution_count": null
  },
  {
   "cell_type": "markdown",
   "source": [
    "However the `I` equation has been simplified away in `izh_simple`, since it was substituted into the differential equation `D(v)`.\n",
    "This is an important functionality of `structural_simplify` as it has turned a system of Differential Algebraic Equations (DAE) to one of Ordinary Differential Equations (ODE). ODEs can be integrated (solved) much more efficiently compared to DAEs."
   ],
   "metadata": {}
  },
  {
   "outputs": [],
   "cell_type": "code",
   "source": [
    "tspan = (0.0, 400.0)"
   ],
   "metadata": {},
   "execution_count": null
  },
  {
   "cell_type": "markdown",
   "source": [
    "We do not provide initial conditions, so the default values for `v` and `u` from above will be used."
   ],
   "metadata": {}
  },
  {
   "outputs": [],
   "cell_type": "code",
   "source": [
    "izh_prob = ODEProblem(izh_simple, [], tspan)\n",
    "\n",
    "izh_sol = solve(izh_prob)\n",
    "\n",
    "fig = plot(izh_sol; idxs=[v, I])\n",
    "fig"
   ],
   "metadata": {},
   "execution_count": null
  },
  {
   "cell_type": "markdown",
   "source": [
    "Notice how the external current is slowly being accumulated in the neuron's potential `v` until the eventual spike and reset."
   ],
   "metadata": {}
  },
  {
   "cell_type": "markdown",
   "source": [
    "## Challenge Problems\n",
    "- Define a [Generalized Integrate-and-Fire neuron](https://neuronaldynamics.epfl.ch/online/Pt2.html) as an `ODESystem` and simulate it.\n",
    "- Pick a neuron model of your choice and perform a sensitivity analysis on the system. How is its spiking behavior change as its parameters change? Summarize the results in one (or several) plots."
   ],
   "metadata": {}
  },
  {
   "cell_type": "markdown",
   "source": [
    "## References\n",
    "- [1] E. M. Izhikevich, \"Simple model of spiking neurons,\" in IEEE Transactions on Neural Networks, vol. 14, no. 6, pp. 1569-1572, Nov. 2003, doi: 10.1109/TNN.2003.820440\n",
    "- [2] Ma, Yingbo, Shashi Gowda, Ranjan Anantharaman, Chris Laughman, Viral Shah, and Chris Rackauckas. \"Modelingtoolkit: A composable graph transformation system for equation-based modeling.\" arXiv preprint arXiv:2103.05244 (2021).\n",
    "- [3] https://docs.sciml.ai/ModelingToolkit/stable/"
   ],
   "metadata": {}
  },
  {
   "cell_type": "markdown",
   "source": [
    "---\n",
    "\n",
    "*This notebook was generated using [Literate.jl](https://github.com/fredrikekre/Literate.jl).*"
   ],
   "metadata": {}
  }
 ],
 "nbformat_minor": 3,
 "metadata": {
  "language_info": {
   "file_extension": ".jl",
   "mimetype": "application/julia",
   "name": "julia",
   "version": "1.10.5"
  },
  "kernelspec": {
   "name": "julia-1.10",
   "display_name": "Julia 1.10.5",
   "language": "julia"
  }
 },
 "nbformat": 4
}
