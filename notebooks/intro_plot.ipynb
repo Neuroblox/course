{
 "cells": [
  {
   "cell_type": "markdown",
   "source": [
    "# Plotting with Makie\n",
    "## Introduction\n",
    "Makie [1] is a plotting ecosystem based in Julia. It comes with multiple backends for rendering and displaying plots. For this course we will be using `CairoMakie` as it has a lot of features for 2D static plots and most computers should support it as it only requires a CPU and no GPU.\n",
    "Makie has a great [Getting Started page](https://docs.makie.org/stable/tutorials/getting-started). We will make use of this tutorial to introduce some basic plotting functions and labelling options."
   ],
   "metadata": {}
  },
  {
   "cell_type": "markdown",
   "source": [
    "Learning goals:\n",
    "- Design layouts with multiple axes in figures.\n",
    "- Use Makie's functionality to plot neuron-specific figures."
   ],
   "metadata": {}
  },
  {
   "cell_type": "markdown",
   "source": [
    "## Plotting layouts\n",
    "We'll now see how to create layouts of multiple subplots within a single window. We'll use the same data from the Makie tutorial linked above."
   ],
   "metadata": {}
  },
  {
   "outputs": [],
   "cell_type": "code",
   "source": [
    "using CairoMakie\n",
    "\n",
    "seconds = 0:0.1:2\n",
    "measurements = [8.2, 8.4, 6.3, 9.5, 9.1, 10.5, 8.6, 8.2, 10.5, 8.5, 7.2,\n",
    "        8.8, 9.7, 10.8, 12.5, 11.6, 12.1, 12.1, 15.1, 14.7, 13.1]\n",
    "\n",
    "fig = Figure(title=\"Line & Scatter layout\")\n",
    "axs = [Axis(fig[1,1], title = \"Line plot\", xlabel = \"Time [sec]\", ylabel = \"Measurement\"),\n",
    "        Axis(fig[2,1], title = \"Scatter plot\", xlabel = \"Time [sec]\", ylabel = \"Measurement\")]\n",
    "\n",
    "lines!(axs[1], seconds, measurements)\n",
    "scatter!(axs[2], seconds, measurements)\n",
    "\n",
    "fig"
   ],
   "metadata": {},
   "execution_count": null
  },
  {
   "cell_type": "markdown",
   "source": [
    "\\fig{layout}"
   ],
   "metadata": {}
  },
  {
   "cell_type": "markdown",
   "source": [
    "> Note: Plot functions in Makie also work without defining a `Figure` and an `Axis` object explicitly.\n",
    "> E.g. plotting with `lines(seconds, measurements)` or `scatter(seconds, measurements)` .\n",
    "> However in this case we won't have all the customization options for the plot axes readily available."
   ],
   "metadata": {}
  },
  {
   "cell_type": "markdown",
   "source": [
    "Plotting layouts in Makie is quite intuitive. We can treat the `Figure` object as a matrix of (sub)plot positions. In the example above we organized the two plots on a single column on positions `fig[1,1]` and `fig[2,1]` (remember that Julia is an 1-index language!).\n",
    "We then input these grid positions of the figure to the respective `Axis` object to define the 2D axes which will contain each plot.\n",
    "When defining an `Axis` there are multiple options to affect its appearance and alignment, see the [Axis documentation page](https://docs.makie.org/v0.21/reference/blocks/axis) for more details.\n",
    "We can also change an `Axis` after it has been constructed. For instance we could hide the x-axis label and ticks on the top plot above, since it is a duplicate of the x-axis of the bottom plot. We will keep the grid lines though, because it is easier to read the x-axis values this way."
   ],
   "metadata": {}
  },
  {
   "cell_type": "markdown",
   "source": [
    "`grid=false` avoids hiding the x grid lines"
   ],
   "metadata": {}
  },
  {
   "outputs": [],
   "cell_type": "code",
   "source": [
    "hidexdecorations!(axs[1], grid=false)"
   ],
   "metadata": {},
   "execution_count": null
  },
  {
   "cell_type": "markdown",
   "source": [
    "Now we can display the figure again with the updated axes"
   ],
   "metadata": {}
  },
  {
   "outputs": [],
   "cell_type": "code",
   "source": [
    "fig"
   ],
   "metadata": {},
   "execution_count": null
  },
  {
   "cell_type": "markdown",
   "source": [
    "\\fig{layout_hidex}"
   ],
   "metadata": {}
  },
  {
   "cell_type": "markdown",
   "source": [
    "## Plotting spikes"
   ],
   "metadata": {}
  },
  {
   "cell_type": "markdown",
   "source": [
    "We will now combine the Makie and the Differential Equations ecosystems to start plotting more meaningful results after simulating neuronal models.\n",
    "We will use the Izhikevich model from the last section in its fast-spiking regime. Besides the spiking event, we will add a second event that increases the external current flowing into the neuron at a specific time during simulation.\n",
    "We will count and plot the spikes that the neuron emits within time windows of a given width both before and after the change in external current."
   ],
   "metadata": {}
  },
  {
   "outputs": [],
   "cell_type": "code",
   "source": [
    "using ModelingToolkit\n",
    "using ModelingToolkit: t_nounits as t, D_nounits as D\n",
    "using OrdinaryDiffEq\n",
    "\n",
    "@variables v(t)=-65 u(t)=-13"
   ],
   "metadata": {},
   "execution_count": null
  },
  {
   "cell_type": "markdown",
   "source": [
    "Parameters for fast spiking."
   ],
   "metadata": {}
  },
  {
   "outputs": [],
   "cell_type": "code",
   "source": [
    "@parameters a=0.1 b=0.2 c=-65 d=2 I=10\n",
    "\n",
    "eqs = [D(v) ~ 0.04 * v ^ 2 + 5 * v + 140 - u + I,\n",
    "        D(u) ~ a * (b * v - u)]\n",
    "\n",
    "spike_threshold = 30\n",
    "t_bigger_stimulation = 250\n",
    "spike_event = (v > spike_threshold) => [u ~ u + d, v ~ c]\n",
    "stimulation_event = [t_bigger_stimulation] => [I ~ I + 10]\n",
    "\n",
    "@named izh_system = ODESystem(eqs, t, [v, u], [a, b, c, d, I]; discrete_events = [spike_event, stimulation_event])\n",
    "izh_simple = structural_simplify(izh_system)\n",
    "\n",
    "u0 = [v => -65.0, u => -13.0]\n",
    "tspan = (0.0, 400.0)\n",
    "\n",
    "izh_prob = ODEProblem(izh_simple, u0, tspan)\n",
    "izh_sol = solve(izh_prob)"
   ],
   "metadata": {},
   "execution_count": null
  },
  {
   "cell_type": "markdown",
   "source": [
    "retrieve the voltage potential variable from solution"
   ],
   "metadata": {}
  },
  {
   "outputs": [],
   "cell_type": "code",
   "source": [
    "V_izh = izh_sol[v]"
   ],
   "metadata": {},
   "execution_count": null
  },
  {
   "cell_type": "markdown",
   "source": [
    "retrieve all stimulation timesteps that the integrator took to solve the ODEProblem"
   ],
   "metadata": {}
  },
  {
   "outputs": [],
   "cell_type": "code",
   "source": [
    "timepoints = izh_sol.t"
   ],
   "metadata": {},
   "execution_count": null
  },
  {
   "cell_type": "markdown",
   "source": [
    "set a time window width for spike counting"
   ],
   "metadata": {}
  },
  {
   "outputs": [],
   "cell_type": "code",
   "source": [
    "t_window = 20"
   ],
   "metadata": {},
   "execution_count": null
  },
  {
   "cell_type": "markdown",
   "source": [
    "split time into bins of size `t_window`"
   ],
   "metadata": {}
  },
  {
   "outputs": [],
   "cell_type": "code",
   "source": [
    "t_range = first(tspan):t_window:last(tspan)"
   ],
   "metadata": {},
   "execution_count": null
  },
  {
   "cell_type": "markdown",
   "source": [
    "initialize an empty vector to hold the spike values."
   ],
   "metadata": {}
  },
  {
   "outputs": [],
   "cell_type": "code",
   "source": [
    "spikes = zeros(length(t_range) - 1)"
   ],
   "metadata": {},
   "execution_count": null
  },
  {
   "cell_type": "markdown",
   "source": [
    "loop over the timepoints at which every time window begins"
   ],
   "metadata": {}
  },
  {
   "outputs": [],
   "cell_type": "code",
   "source": [
    "for i in eachindex(t_range[1:end-1])"
   ],
   "metadata": {},
   "execution_count": null
  },
  {
   "cell_type": "markdown",
   "source": [
    "find the indices of timepoints that fall within the current time window"
   ],
   "metadata": {}
  },
  {
   "outputs": [],
   "cell_type": "code",
   "source": [
    "    idxs = findall(t -> t_range[i] <= t <= t_range[i+1], timepoints)"
   ],
   "metadata": {},
   "execution_count": null
  },
  {
   "cell_type": "markdown",
   "source": [
    "count the number of spikes within the same window"
   ],
   "metadata": {}
  },
  {
   "outputs": [],
   "cell_type": "code",
   "source": [
    "    spikes[i] = count(V_izh[idxs] .> spike_threshold) ## counts the number of True elements in a Boolean vector\n",
    "end\n",
    "\n",
    "fig = Figure()\n",
    "ax = Axis(fig[1,1], xlabel=\"Time (sec)\", ylabel=\"Spikes\")"
   ],
   "metadata": {},
   "execution_count": null
  },
  {
   "cell_type": "markdown",
   "source": [
    "plot spikes for each time window"
   ],
   "metadata": {}
  },
  {
   "outputs": [],
   "cell_type": "code",
   "source": [
    "barplot!(ax, t_range[1:end-1], spikes, label=\"Spikes\")"
   ],
   "metadata": {},
   "execution_count": null
  },
  {
   "cell_type": "markdown",
   "source": [
    "plot a vertical line to note when the change in current `I` occurred"
   ],
   "metadata": {}
  },
  {
   "outputs": [],
   "cell_type": "code",
   "source": [
    "vlines!(ax, [t_bigger_stimulation]; color=:tomato, linestyle=:dash, linewidth=4, label=\"Stimulation: I = I+10\")"
   ],
   "metadata": {},
   "execution_count": null
  },
  {
   "cell_type": "markdown",
   "source": [
    "display the legend"
   ],
   "metadata": {}
  },
  {
   "outputs": [],
   "cell_type": "code",
   "source": [
    "axislegend(position = :lt)\n",
    "fig"
   ],
   "metadata": {},
   "execution_count": null
  },
  {
   "cell_type": "markdown",
   "source": [
    "\\fig{spikes}"
   ],
   "metadata": {}
  },
  {
   "cell_type": "markdown",
   "source": [
    "# Challenge Problems\n",
    "See the [Differential Equations in Julia](/pages/intro_diffeq/)"
   ],
   "metadata": {}
  },
  {
   "cell_type": "markdown",
   "source": [
    "# References\n",
    "- [1] Danisch et al., (2021). Makie.jl: Flexible high-performance data visualization for Julia. Journal of Open Source Software, 6(65), 3349, https://doi.org/10.21105/joss.03349\n",
    "- [2] https://docs.makie.org/stable/"
   ],
   "metadata": {}
  },
  {
   "cell_type": "markdown",
   "source": [
    "---\n",
    "\n",
    "*This notebook was generated using [Literate.jl](https://github.com/fredrikekre/Literate.jl).*"
   ],
   "metadata": {}
  }
 ],
 "nbformat_minor": 3,
 "metadata": {
  "language_info": {
   "file_extension": ".jl",
   "mimetype": "application/julia",
   "name": "julia",
   "version": "1.10.5"
  },
  "kernelspec": {
   "name": "julia-1.10",
   "display_name": "Julia 1.10.5",
   "language": "julia"
  }
 },
 "nbformat": 4
}
