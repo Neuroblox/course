{
 "cells": [
  {
   "cell_type": "markdown",
   "source": [
    "# Decision Making in a Circuit Model"
   ],
   "metadata": {}
  },
  {
   "cell_type": "markdown",
   "source": [
    "## Introduction\n",
    "The session covers the classic article by Wang [1] which presented a circuit model for decision making. The model consists of two selective excitatory populations, one for each possible choice, a non-selective excitatory population and an inhibitory population which facilitates the competition between the two selective ones.\n",
    "Each population is comprised of Leaky Integrate-and-Fire neurons, which include dynamics for NMDA, AMPA and GABA receptors, unlike the two-dimensional `LIFNeuron` we used before."
   ],
   "metadata": {}
  },
  {
   "cell_type": "markdown",
   "source": [
    "The decision-making task that the circuit solves is the Random Dot Motion task. The participant (our circuit model) needs to decide whether a pool of dots on a screen move towards the left or the right direction on average. The coherence of the between-dot direction of movement can vary from trial to trial, thus making some trials more ambiguous than others."
   ],
   "metadata": {}
  },
  {
   "cell_type": "markdown",
   "source": [
    "Learning goals\n",
    "- Use circuit models in a behavioral task with stimulus inputs and action outputs.\n",
    "- Model synaptic receptors explicitly and interventions on them."
   ],
   "metadata": {}
  },
  {
   "cell_type": "markdown",
   "source": [
    "## Model definition"
   ],
   "metadata": {}
  },
  {
   "outputs": [],
   "cell_type": "code",
   "source": [
    "using Neuroblox\n",
    "using OrdinaryDiffEq\n",
    "using Distributions\n",
    "using CairoMakie\n",
    "using Random\n",
    "\n",
    "Random.seed!(1)\n",
    "\n",
    "model_name = :g\n",
    "tspan = (0, 1000) ## Simulation time span [ms]\n",
    "spike_rate = 2.4 ## spikes / ms\n",
    "\n",
    "N = 150 ## total number of neurons\n",
    "f = 0.15 ## ratio of selective excitatory to non-selective excitatory neurons\n",
    "f_inh = 0.2 ## ratio of inhibitory neurons to all neurons\n",
    "N_E = Int(N * (1 - f_inh))\n",
    "N_I = Int(ceil(N * f_inh)) ## total number of inhibitory neurons\n",
    "N_E_selective = Int(ceil(f * N_E)) ## number of selective excitatory neurons\n",
    "N_E_nonselective = N_E - 2 * N_E_selective ## number of non-selective excitatory neurons"
   ],
   "metadata": {},
   "execution_count": null
  },
  {
   "cell_type": "markdown",
   "source": [
    "Use two distinct weight values as per Wang [1]"
   ],
   "metadata": {}
  },
  {
   "outputs": [],
   "cell_type": "code",
   "source": [
    "w₊ = 1.7\n",
    "w₋ = 1 - f * (w₊ - 1) / (1 - f)"
   ],
   "metadata": {},
   "execution_count": null
  },
  {
   "cell_type": "markdown",
   "source": [
    "Use scaling factors for conductance parameters so that our abbreviated model\n",
    "can exhibit the same competition behavior between the two selective excitatory populations\n",
    "as the larger model in Wang [1] does."
   ],
   "metadata": {}
  },
  {
   "outputs": [],
   "cell_type": "code",
   "source": [
    "exci_scaling_factor = 1600 / N_E\n",
    "inh_scaling_factor = 400 / N_I\n",
    "\n",
    "coherence = 0 # random dot motion coherence [%]\n",
    "dt_spike_rate = 50 # update interval for the stimulus spike rate [ms]\n",
    "μ_0 = 40e-3 # mean stimulus spike rate [spikes / ms]\n",
    "ρ_A = ρ_B = μ_0 / 100\n",
    "μ_A = μ_0 + ρ_A * coherence\n",
    "μ_B = μ_0 + ρ_B * coherence\n",
    "σ = 4e-3 # standard deviation of stimulus spike rate [spikes / ms]\n",
    "\n",
    "spike_rate_A = (distribution=Normal(μ_A, σ), dt=dt_spike_rate) # spike rate distribution for selective population A\n",
    "spike_rate_B = (distribution=Normal(μ_B, σ), dt=dt_spike_rate) # spike rate distribution for selective population B"
   ],
   "metadata": {},
   "execution_count": null
  },
  {
   "cell_type": "markdown",
   "source": [
    "background input"
   ],
   "metadata": {}
  },
  {
   "outputs": [],
   "cell_type": "code",
   "source": [
    "@named background_input = PoissonSpikeTrain(spike_rate, tspan; namespace = model_name);"
   ],
   "metadata": {},
   "execution_count": null
  },
  {
   "cell_type": "markdown",
   "source": [
    "stimulation inputs to selective populations A and B"
   ],
   "metadata": {}
  },
  {
   "outputs": [],
   "cell_type": "code",
   "source": [
    "@named stim_A = PoissonSpikeTrain(spike_rate_A, tspan; namespace = model_name);\n",
    "@named stim_B = PoissonSpikeTrain(spike_rate_B, tspan; namespace = model_name);\n",
    "\n",
    "@named n_A = LIFExciCircuitBlox(; namespace = model_name, N_neurons = N_E_selective, weight = w₊, exci_scaling_factor, inh_scaling_factor);\n",
    "@named n_B = LIFExciCircuitBlox(; namespace = model_name, N_neurons = N_E_selective, weight = w₊, exci_scaling_factor, inh_scaling_factor) ;\n",
    "@named n_ns = LIFExciCircuitBlox(; namespace = model_name, N_neurons = N_E_nonselective, weight = 1.0, exci_scaling_factor, inh_scaling_factor);\n",
    "@named n_inh = LIFInhCircuitBlox(; namespace = model_name, N_neurons = N_I, weight = 1.0, exci_scaling_factor, inh_scaling_factor);"
   ],
   "metadata": {},
   "execution_count": null
  },
  {
   "cell_type": "markdown",
   "source": [
    "As we can see, each selective population `n_A` and `n_B` receives a separate spike train input `stim_A` and `stim_B` respectively. These inputs model visual processing that is selective for the left and right dot directions. All Bloxs also receive background inputs of the same rate from neurons we do not explicitly model.\n",
    "The Bloxs we use here are subtypes of `CompositeBlox` and contain either `LIFExciNeuron`s or `LIFInhNeuron`s in them."
   ],
   "metadata": {}
  },
  {
   "cell_type": "markdown",
   "source": [
    "## System construction & Simulation"
   ],
   "metadata": {}
  },
  {
   "outputs": [],
   "cell_type": "code",
   "source": [
    "g = MetaDiGraph()\n",
    "add_edge!(g, background_input => n_A; weight = 1);\n",
    "add_edge!(g, background_input => n_B; weight = 1);\n",
    "add_edge!(g, background_input => n_ns; weight = 1);\n",
    "add_edge!(g, background_input => n_inh; weight = 1);\n",
    "\n",
    "add_edge!(g, stim_A => n_A; weight = 1);\n",
    "add_edge!(g, stim_B => n_B; weight = 1);\n",
    "\n",
    "add_edge!(g, n_A => n_B; weight = w₋);\n",
    "add_edge!(g, n_A => n_ns; weight = 1);\n",
    "add_edge!(g, n_A => n_inh; weight = 1);\n",
    "\n",
    "add_edge!(g, n_B => n_A; weight = w₋);\n",
    "add_edge!(g, n_B => n_ns; weight = 1);\n",
    "add_edge!(g, n_B => n_inh; weight = 1);\n",
    "\n",
    "add_edge!(g, n_ns => n_A; weight = w₋);\n",
    "add_edge!(g, n_ns => n_B; weight = w₋);\n",
    "add_edge!(g, n_ns => n_inh; weight = 1);\n",
    "\n",
    "add_edge!(g, n_inh => n_A; weight = 1);\n",
    "add_edge!(g, n_inh => n_B; weight = 1);\n",
    "add_edge!(g, n_inh => n_ns; weight = 1);\n",
    "\n",
    "sys = system_from_graph(g; name=model_name, graphdynamics = true);\n",
    "prob = ODEProblem(sys, [], tspan);\n",
    "sol = solve(prob, Euler(); dt = 0.01);"
   ],
   "metadata": {},
   "execution_count": null
  },
  {
   "cell_type": "markdown",
   "source": [
    "> **_NOTE_:** As mention in the PING circuit session too, setting `graphdynamics=true` will enable an alternative compilation mode for the neural system. Not every model is compatible with GraphDynamics.jl [2] yet, but for ones that are compatible, it is usually significantly faster to compile. This option will make the biggest difference when you care about very large numbers of neurons, or if you are running the same model with small changes to the number of neurons or connectivity graph many times."
   ],
   "metadata": {}
  },
  {
   "cell_type": "markdown",
   "source": [
    "## Results"
   ],
   "metadata": {}
  },
  {
   "outputs": [],
   "cell_type": "code",
   "source": [
    "fig = Figure()\n",
    "rasterplot(fig[1,1], n_A, sol; title = \"Population A\")\n",
    "rasterplot(fig[1,2], n_B, sol; title = \"Population B\")\n",
    "rasterplot(fig[2,1], n_inh, sol; color=:red, title = \"Inhibitory Population\")\n",
    "fig"
   ],
   "metadata": {},
   "execution_count": null
  },
  {
   "cell_type": "markdown",
   "source": [
    "\\fig{dm_raster}"
   ],
   "metadata": {}
  },
  {
   "cell_type": "markdown",
   "source": [
    "Notice how the neuronal activity in one of the excitatory populations is quickly ramping up, while the activity in the other population is decreasing at the same time. The inhibitory population exhibits a contant tonic activity that facilitates the competition between A and B via the precise spike times."
   ],
   "metadata": {}
  },
  {
   "outputs": [],
   "cell_type": "code",
   "source": [
    "fig = Figure()\n",
    "ax = Axis(fig[1,1])\n",
    "frplot!(ax, n_A, sol; color=:black, win_size=50, label=\"Population A\")\n",
    "frplot!(ax, n_B, sol; color=:red, win_size=50, label=\"Population B\", title = \"Competing Firing Rates\")\n",
    "axislegend(position=:lt)\n",
    "fig"
   ],
   "metadata": {},
   "execution_count": null
  },
  {
   "cell_type": "markdown",
   "source": [
    "\\fig{dm_fr}"
   ],
   "metadata": {}
  },
  {
   "cell_type": "markdown",
   "source": [
    "We observe the same result qualitatively when plotting the firing rates instead of spikes. Using a single axis we can better see the magnitude of the competition in the difference between the firing rates over time."
   ],
   "metadata": {}
  },
  {
   "cell_type": "markdown",
   "source": [
    "## Challenge Problems\n",
    "- The circuit makes a decision in real time. Can you calculate and plot a response time distribution? Try changing the dot coherence level and see how it affects the response times.\n",
    "- Which receptor type (NMDA, AMPA or GABA) is the most crucial one for the competition behavior of the circuit? Hint: simulate interventions on the circuit to ablate a receptor type. Look into the equations of `LIFExciNeuron` and `LIFInhNeuron` and affect the receptors' conductance."
   ],
   "metadata": {}
  },
  {
   "cell_type": "markdown",
   "source": [
    "## References\n",
    "- [1] Wang XJ. Probabilistic decision making by slow reverberation in cortical circuits. Neuron. 2002 Dec;36(5):955-968. DOI: 10.1016/s0896-6273(02)01092-9. PMID: 12467598.\n",
    "- [2] Protter, M. (2024). GraphDynamics.jl -- Efficient dynamics of interacting collections of modular subsystems (v0.2.2). Zenodo. https://doi.org/10.5281/zenodo.14183153"
   ],
   "metadata": {}
  },
  {
   "cell_type": "markdown",
   "source": [
    "---\n",
    "\n",
    "*This notebook was generated using [Literate.jl](https://github.com/fredrikekre/Literate.jl).*"
   ],
   "metadata": {}
  }
 ],
 "nbformat_minor": 3,
 "metadata": {
  "language_info": {
   "file_extension": ".jl",
   "mimetype": "application/julia",
   "name": "julia",
   "version": "1.10.5"
  },
  "kernelspec": {
   "name": "julia-1.10",
   "display_name": "Julia 1.10.5",
   "language": "julia"
  }
 },
 "nbformat": 4
}
