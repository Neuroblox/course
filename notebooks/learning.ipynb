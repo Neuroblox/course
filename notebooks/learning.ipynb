{
 "cells": [
  {
   "cell_type": "markdown",
   "source": [
    "# Synaptic Plasticity and Reinforcement Learning"
   ],
   "metadata": {}
  },
  {
   "cell_type": "markdown",
   "source": [
    "## Introduction\n",
    "In Neuroblox, we can add plasticity rules to our circuit models. The symbolic weights that are defined for every connection are the ones that are updated according to these plasticity rules after every simulation run.\n",
    "Weight updates are automatically handled after each simulation when doing reinforcement learning in Neuroblox. This is the topic that we will cover here."
   ],
   "metadata": {}
  },
  {
   "cell_type": "markdown",
   "source": [
    "We will consider two examples. First, a cortical circuit with Hebbian plasticity and then an extended circuit which implements reinforcement learning to categorize image stimuli between two categories without any a priori knowledge of the categorization rule."
   ],
   "metadata": {}
  },
  {
   "cell_type": "markdown",
   "source": [
    "In reinforcement learning (RL) we typically talk about an agent acting on an environment and then the environment returning new stimuli and rewards to the agent. We have used the same semantics in Neuroblox as we will see shortly. The `Agent` is constructed from the model graph and the `ClassificationEnvironment` is constructed by a Blox of multiple stimuli, which also contains information about the true category of each stimulus."
   ],
   "metadata": {}
  },
  {
   "cell_type": "markdown",
   "source": [
    "Learning goals\n",
    "- Simulate circuits with Hebbian synaptic plasticity.\n",
    "- Simulate circuits performing reinforcement learning in a behavioral task."
   ],
   "metadata": {}
  },
  {
   "cell_type": "markdown",
   "source": [
    "## Cortico-Cortical Plasticity"
   ],
   "metadata": {}
  },
  {
   "outputs": [],
   "cell_type": "code",
   "source": [
    "using Neuroblox\n",
    "using OrdinaryDiffEq ## to build the ODE problem and solve it, gain access to multiple solvers from this\n",
    "using Random ## for generating random variables\n",
    "using CairoMakie ## for customized plotting recipies for blox\n",
    "using CSV ## to read data from CSV files\n",
    "using DataFrames ## to format the data into DataFrames\n",
    "using Downloads ## to download image stimuli files\n",
    "\n",
    "N_trials = 10 ## number of trials\n",
    "trial_dur = 1000 ## in ms"
   ],
   "metadata": {},
   "execution_count": null
  },
  {
   "cell_type": "markdown",
   "source": [
    "download the stimulus images"
   ],
   "metadata": {}
  },
  {
   "outputs": [],
   "cell_type": "code",
   "source": [
    "image_set = CSV.read(Downloads.download(\"raw.githubusercontent.com/Neuroblox/NeurobloxDocsHost/refs/heads/main/data/stimuli_set.csv\"), DataFrame) ## reading data into DataFrame format\n",
    "\n",
    "model_name = :g"
   ],
   "metadata": {},
   "execution_count": null
  },
  {
   "cell_type": "markdown",
   "source": [
    "define stimulus Blox\n",
    "t_stimulus: how long the stimulus is on (in ms)\n",
    "t_pause : how long the stimulus is off (in ms)"
   ],
   "metadata": {}
  },
  {
   "outputs": [],
   "cell_type": "code",
   "source": [
    "@named stim = ImageStimulus(image_set; namespace=model_name, t_stimulus=trial_dur, t_pause=0);"
   ],
   "metadata": {},
   "execution_count": null
  },
  {
   "cell_type": "markdown",
   "source": [
    "Cortical Bloxs"
   ],
   "metadata": {}
  },
  {
   "outputs": [],
   "cell_type": "code",
   "source": [
    "@named VAC = CorticalBlox(; namespace=model_name, N_wta=4, N_exci=5,  density=0.05, weight=1)\n",
    "@named AC = CorticalBlox(; namespace=model_name, N_wta=2, N_exci=5, density=0.05, weight=1)"
   ],
   "metadata": {},
   "execution_count": null
  },
  {
   "cell_type": "markdown",
   "source": [
    "ascending system Blox, modulating frequency set to 16 Hz"
   ],
   "metadata": {}
  },
  {
   "outputs": [],
   "cell_type": "code",
   "source": [
    "@named ASC1 = NextGenerationEIBlox(; namespace=model_name, Cₑ=2*26,Cᵢ=1*26, alpha_invₑₑ=10.0/26, alpha_invₑᵢ=0.8/26, alpha_invᵢₑ=10.0/26, alpha_invᵢᵢ=0.8/26, kₑᵢ=0.6*26, kᵢₑ=0.6*26)"
   ],
   "metadata": {},
   "execution_count": null
  },
  {
   "cell_type": "markdown",
   "source": [
    "learning rule"
   ],
   "metadata": {}
  },
  {
   "outputs": [],
   "cell_type": "code",
   "source": [
    "hebbian_cort = HebbianPlasticity(K=5e-4, W_lim=15, t_pre=trial_dur, t_post=trial_dur)\n",
    "\n",
    "g = MetaDiGraph()\n",
    "\n",
    "add_edge!(g, stim => VAC, weight=14)\n",
    "add_edge!(g, ASC1 => VAC, weight=44)\n",
    "add_edge!(g, ASC1 => AC, weight=44)\n",
    "add_edge!(g, VAC => AC, weight=3, density=0.1, learning_rule = hebbian_cort) ## pass learning rule as a keyword argument\n",
    "\n",
    "agent = Agent(g; name=model_name);\n",
    "env = ClassificationEnvironment(stim, N_trials; name=:env, namespace=model_name);\n",
    "\n",
    "fig = Figure(size = (1600, 800))\n",
    "\n",
    "adjacency(fig[1,1], agent; title=\"Initial weights\", colorrange=(0,7))\n",
    "\n",
    "run_experiment!(agent, env; t_warmup=200.0, alg=Vern7())\n",
    "\n",
    "adjacency(fig[1,2], agent; title=\"Final weights\", colorrange=(0,7))\n",
    "fig"
   ],
   "metadata": {},
   "execution_count": null
  },
  {
   "cell_type": "markdown",
   "source": [
    "Notice how the weight values in the upper left corner (connections with `HebbianPlasticity`) have changed after simulation."
   ],
   "metadata": {}
  },
  {
   "cell_type": "markdown",
   "source": [
    "## Cortico-Striatal Circuit performing Category Learning\n",
    "This is one simplified biological instantiation of an RL system. It is carrying out a simple RL behavior but not faithfully simulating physiology. The experiment we are simulating here is the category learning experiment [Antzoulatos2014] which was successfully modeled through a detailed corticostriatal model [2]."
   ],
   "metadata": {}
  },
  {
   "outputs": [],
   "cell_type": "code",
   "source": [
    "time_block_dur = 90.0 ## ms (size of discrete time blocks)\n",
    "N_trials = 100 ## number of trials\n",
    "trial_dur = 1000 ## ms\n",
    "\n",
    "image_set = CSV.read(Downloads.download(\"raw.githubusercontent.com/Neuroblox/NeurobloxDocsHost/refs/heads/main/data/stimuli_set.csv\"), DataFrame) ## reading data into DataFrame format"
   ],
   "metadata": {},
   "execution_count": null
  },
  {
   "cell_type": "markdown",
   "source": [
    "additional Striatum Bloxs"
   ],
   "metadata": {}
  },
  {
   "outputs": [],
   "cell_type": "code",
   "source": [
    "@named STR1 = Striatum(; namespace=model_name, N_inhib=5)\n",
    "@named STR2 = Striatum(; namespace=model_name, N_inhib=5)\n",
    "\n",
    "@named tan_pop1 = TAN(κ=10; namespace=model_name)\n",
    "@named tan_pop2 = TAN(κ=10; namespace=model_name)\n",
    "\n",
    "@named SNcb = SNc(κ_DA=1; namespace=model_name)"
   ],
   "metadata": {},
   "execution_count": null
  },
  {
   "cell_type": "markdown",
   "source": [
    "action selection Blox, necessary for making a choice"
   ],
   "metadata": {}
  },
  {
   "outputs": [],
   "cell_type": "code",
   "source": [
    "@named AS = GreedyPolicy(; namespace=model_name, t_decision=2*time_block_dur)"
   ],
   "metadata": {},
   "execution_count": null
  },
  {
   "cell_type": "markdown",
   "source": [
    "learning rules"
   ],
   "metadata": {}
  },
  {
   "outputs": [],
   "cell_type": "code",
   "source": [
    "hebbian_mod = HebbianModulationPlasticity(K=0.06, decay=0.01, α=2.5, θₘ=1, modulator=SNcb, t_pre=trial_dur, t_post=trial_dur, t_mod=time_block_dur)\n",
    "hebbian_cort = HebbianPlasticity(K=5e-4, W_lim=7, t_pre=trial_dur, t_post=trial_dur)\n",
    "\n",
    "g = MetaDiGraph()\n",
    "\n",
    "add_edge!(g, stim => VAC, weight=14)\n",
    "add_edge!(g, ASC1 => VAC, weight=44)\n",
    "add_edge!(g, ASC1 => AC, weight=44)\n",
    "add_edge!(g, VAC => AC, weight=3, density=0.1, learning_rule = hebbian_cort)\n",
    "add_edge!(g, AC => STR1, weight = 0.075, density =  0.04, learning_rule =  hebbian_mod)\n",
    "add_edge!(g, AC => STR2, weight =  0.075, density =  0.04, learning_rule =  hebbian_mod)\n",
    "add_edge!(g, tan_pop1 => STR1, weight = 1, t_event = time_block_dur)\n",
    "add_edge!(g, tan_pop2 => STR2, weight = 1, t_event = time_block_dur)\n",
    "add_edge!(g, STR1 => tan_pop1, weight = 1)\n",
    "add_edge!(g, STR2 => tan_pop1, weight = 1)\n",
    "add_edge!(g, STR1 => tan_pop2, weight = 1)\n",
    "add_edge!(g, STR2 => tan_pop2, weight = 1)\n",
    "add_edge!(g, STR1 => STR2, weight = 1, t_event = 2*time_block_dur)\n",
    "add_edge!(g, STR2 => STR1, weight = 1, t_event = 2*time_block_dur)\n",
    "add_edge!(g, STR1 => SNcb, weight = 1)\n",
    "add_edge!(g, STR2 => SNcb, weight = 1)"
   ],
   "metadata": {},
   "execution_count": null
  },
  {
   "cell_type": "markdown",
   "source": [
    "action selection connections"
   ],
   "metadata": {}
  },
  {
   "outputs": [],
   "cell_type": "code",
   "source": [
    "add_edge!(g, STR1 => AS);\n",
    "add_edge!(g, STR2 => AS);"
   ],
   "metadata": {},
   "execution_count": null
  },
  {
   "cell_type": "markdown",
   "source": [
    "The last two connections add the ability to output actions. The `AS` Blox is a `GreedyPolicy` meaning that it will compare the activity of both Striatum Bloxs `STR1` and `STR2` and select the highest value. If `STR1` wins then the left choice is made and if `STR2` wins then the model chooses the right direction as the true dot movement direction."
   ],
   "metadata": {}
  },
  {
   "outputs": [],
   "cell_type": "code",
   "source": [
    "agent = Agent(g; name=model_name, t_block = time_block_dur); ## define agent\n",
    "env = ClassificationEnvironment(stim, N_trials; name=:env, namespace=model_name)\n",
    "\n",
    "fig = Figure(title=\"Adjacency matrix\", size = (1600, 800))\n",
    "\n",
    "adjacency(fig[1,1], agent; title = \"Before Learning\", colorrange=(0,0.2))\n",
    "\n",
    "trace = run_experiment!(agent, env; t_warmup=200.0, alg=Vern7(), verbose=true)"
   ],
   "metadata": {},
   "execution_count": null
  },
  {
   "cell_type": "markdown",
   "source": [
    "`trace` is a `NamedTuple` containing useful outcomes for each trial of the experiment:"
   ],
   "metadata": {}
  },
  {
   "outputs": [],
   "cell_type": "code",
   "source": [
    "trace.trial ## trial indices\n",
    "trace.correct ## whether the response was correct or not on each trial\n",
    "trace.action; ## what responce was made on each trial, 1 is left and 2 is right\n",
    "\n",
    "adjacency(fig[1,2], agent; title = \"After Learning\", colorrange=(0,0.2))\n",
    "fig"
   ],
   "metadata": {},
   "execution_count": null
  },
  {
   "cell_type": "markdown",
   "source": [
    "Notice the changes in weight values after the RL experiment."
   ],
   "metadata": {}
  },
  {
   "cell_type": "markdown",
   "source": [
    "## Challenge Problems\n",
    "- Visualize the model's performance in the category learning task as a function of time (trials). Hint: For correct trials `trace.correct = 1` and for incorrect trials `trace.correct = 0`.\n",
    "- Since this is an oversimplified instantiation of a cortico-striatal model, it is highly sensitive to the parameters, such that if we change the values of `TAN` parameters (maximum activity `κ`), or learning rates in `HebbianModulationPlasticity` (learning rate constant `K`), the system won’t be able to learn. Try playing with these parameters and figure out at what range of these parameters the model works."
   ],
   "metadata": {}
  },
  {
   "cell_type": "markdown",
   "source": [
    "## References\n",
    "- [1] Pathak A., Brincat S., Organtzidis H., Strey H., Senneff S., Antzoulatos E., Mujica-Parodi L., Miller E., Granger R. Biomimetic model of corticostriatal micro-assemblies discovers new neural code., bioRxiv 2023.11.06.565902, 2024\n",
    "- [2] Antzoulatos EG, Miller EK. Increases in functional connectivity between prefrontal cortex and striatum during category learning. Neuron. 2014 Jul 2;83(1):216-25. doi: 10.1016/j.neuron.2014.05.005. Epub 2014 Jun 12. PMID: 24930701; PMCID: PMC4098789."
   ],
   "metadata": {}
  },
  {
   "cell_type": "markdown",
   "source": [
    "---\n",
    "\n",
    "*This notebook was generated using [Literate.jl](https://github.com/fredrikekre/Literate.jl).*"
   ],
   "metadata": {}
  }
 ],
 "nbformat_minor": 3,
 "metadata": {
  "language_info": {
   "file_extension": ".jl",
   "mimetype": "application/julia",
   "name": "julia",
   "version": "1.10.5"
  },
  "kernelspec": {
   "name": "julia-1.10",
   "display_name": "Julia 1.10.5",
   "language": "julia"
  }
 },
 "nbformat": 4
}
